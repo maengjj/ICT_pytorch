{
  "cells": [
    {
      "cell_type": "markdown",
      "metadata": {
        "id": "view-in-github",
        "colab_type": "text"
      },
      "source": [
        "<a href=\"https://colab.research.google.com/github/maengjj/ICT_pytorch/blob/main/0_%EC%8B%A4%EC%8A%B5%ED%99%98%EA%B2%BD_%EC%9D%B4%ED%95%B4%ED%95%98%EA%B8%B0.ipynb\" target=\"_parent\"><img src=\"https://colab.research.google.com/assets/colab-badge.svg\" alt=\"Open In Colab\"/></a>"
      ]
    },
    {
      "cell_type": "markdown",
      "metadata": {
        "id": "dN3ZQlftiUvA"
      },
      "source": [
        "# 준비 - Google Colab"
      ]
    },
    {
      "cell_type": "markdown",
      "metadata": {
        "id": "b9vEFwWbn6nZ"
      },
      "source": [
        "-----\n",
        "## 실습목표\n",
        "- 머신러닝 코드 작성을 위한 실습 환경을 이해한다.\n",
        "- Colab의 주요 사용법에 대해 숙지한다.\n"
      ]
    },
    {
      "cell_type": "markdown",
      "metadata": {
        "id": "lfRkXDLBn6nc"
      },
      "source": [
        "## Colab이란?"
      ]
    },
    {
      "cell_type": "markdown",
      "source": [
        "[Colab](https://colab.research.google.com/)\n",
        "- 클라우드 기반의 무료 Notebook 개발환경\n",
        "- 무료사용(GPU/TPU 포함)\n",
        "- 머신러닝, 딥러닝을 위한 기본 패키지 설치되어있음\n",
        "- Github와 연동되어 공유 용이\n",
        "- 소스코드는 구글 드라이브에 저장 가능\n",
        "- 최대 세션 유지시간12시간(무료기준)\n"
      ],
      "metadata": {
        "id": "ZpVWJ9AEoTNA"
      }
    },
    {
      "cell_type": "markdown",
      "metadata": {
        "id": "U299d8vNn6nf"
      },
      "source": [
        "## Code Cell과 Markdown Cell"
      ]
    },
    {
      "cell_type": "code",
      "execution_count": null,
      "metadata": {
        "id": "RDxzdNCpn6nf"
      },
      "outputs": [],
      "source": [
        "# code cell\n",
        "# 코드를 작성하고 실행할 수 있다.\n",
        "# 좌측에 In []: 표시가 있다.\n",
        "# In[]: 괄호 안의 숫자는 몇번째 실행했는지를 나타냄.\n",
        "#      코드셀의 순서대로 실행되는 것이 아님\n",
        "#     : 괄호 안에 *가 표시될 경우, 실행 중인 상태임\n",
        "# Out[]: 코드의 실행 결과를 출력\n",
        "a = 3\n",
        "b = 5\n",
        "a + b"
      ]
    },
    {
      "cell_type": "markdown",
      "metadata": {
        "id": "YpstmPxgn6ni"
      },
      "source": [
        "**Markdown cell**\n",
        "\n",
        "- 마크다운 문법이 적용\n",
        "- 코드를 작성하더라도, 텍스트로 인식하기 때문에 실행되지 않음\n",
        "\n",
        "\n",
        "\n",
        "\n",
        "**주요 마크다운 문법**\n",
        "\n",
        "| 구분     | 문법                | 설명             |\n",
        "| -------- | ------------------- | ---------------- |\n",
        "| Heading  | #                   | h1 tag           |\n",
        "|          | ##                  | h2 tag           |\n",
        "|          | ###                 | h3 tag           |\n",
        "| Emphasis | **  ** 또는 __   __ | 진하게           |\n",
        "|          | * * 또는 _ _        | 이탤릭체         |"
      ]
    },
    {
      "cell_type": "markdown",
      "source": [
        "# 대제목\n",
        "## 중제목\n",
        "### 소제목\n",
        "본문\n",
        "\n",
        "\n",
        "*   아이템1\n",
        "*   아이템2\n",
        "*   아이템3\n",
        "\n",
        "\n",
        "***강조***\n",
        "\n",
        "(shift + enter)\n",
        "\n",
        "\n"
      ],
      "metadata": {
        "id": "VrngYbOLdqYt"
      }
    },
    {
      "cell_type": "markdown",
      "metadata": {
        "id": "U6-jEqIdn6nj"
      },
      "source": [
        "## 주요 메뉴"
      ]
    },
    {
      "cell_type": "markdown",
      "metadata": {
        "id": "_AyyJGPNn6nl"
      },
      "source": [
        "* **Insert**: cell 삽입\n",
        "* **Runtime**: 실행 관리(cell 실행, cell 실행 시 메모리 및 세션 관리, GPU 설정 등)\n"
      ]
    },
    {
      "cell_type": "markdown",
      "metadata": {
        "id": "RyjMOar6n6nl"
      },
      "source": [
        "## .py vs .ipynb"
      ]
    },
    {
      "cell_type": "markdown",
      "metadata": {
        "id": "3MA_TQten6nm"
      },
      "source": [
        "- 파이썬 파일의 확장자: .py\n",
        "- 노트북 환경에서 작성한 파이썬 파일의 확장자: .ipynb\n",
        "    - 노트북 환경에서 작성할 경우, 마크다운과 코드가 함께 작성\n",
        "- .ipynb -> .py : 마크다운으로 작성된 부분이 주석으로 처리되어 저장\n",
        "- .py -> .ipynb : 하나의 코드셀에 코드 작성\n",
        "- .ipynb 파일에서 .py로 작성한 다른 파일 import\n",
        "    - work directory에 python 파일이 함께 존재해야함\n",
        "\n",
        "    "
      ]
    },
    {
      "cell_type": "code",
      "source": [
        "%pwd"
      ],
      "metadata": {
        "id": "JbY7rAPQfjgw"
      },
      "execution_count": null,
      "outputs": []
    },
    {
      "cell_type": "markdown",
      "metadata": {
        "id": "Pccn-yvon6nn"
      },
      "source": [
        "## 파일 업로드하기"
      ]
    },
    {
      "cell_type": "markdown",
      "metadata": {
        "id": "w4OF5aC1n6no"
      },
      "source": [
        "- 업로드한 파일은 세션 종료 후에 삭제됨\n",
        "\n",
        "![file_upload.jpg](data:image/jpeg;base64,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)"
      ]
    },
    {
      "cell_type": "markdown",
      "metadata": {
        "id": "66N50-RFn6no"
      },
      "source": [
        "## 구글 드라이브 연결하기"
      ]
    },
    {
      "cell_type": "code",
      "source": [
        "from google.colab import drive\n",
        "drive.mount('/content/drive')"
      ],
      "metadata": {
        "id": "ecdtAE6Ss5gc"
      },
      "execution_count": null,
      "outputs": []
    },
    {
      "cell_type": "code",
      "source": [
        "%cd /content/drive/MyDrive/github"
      ],
      "metadata": {
        "id": "i5n9z9evteCr"
      },
      "execution_count": null,
      "outputs": []
    },
    {
      "cell_type": "code",
      "source": [
        "%pwd"
      ],
      "metadata": {
        "id": "SbNmciZ1tgop"
      },
      "execution_count": null,
      "outputs": []
    },
    {
      "cell_type": "markdown",
      "metadata": {
        "id": "rcDhaqumn6np"
      },
      "source": [
        "## 패키지 설치하기"
      ]
    },
    {
      "cell_type": "markdown",
      "metadata": {
        "id": "iGOtfzwNn6nq"
      },
      "source": [
        "- Colab에는 머신러닝 시 필요한 주요 패키지가 이미 설치되어있음\n",
        "- 추가로 파일을 설치하거나 기본적으로 설치된 패키지의 버전을 변경해야하는 경우가 존재\n",
        "- pip install 명령을 사용"
      ]
    },
    {
      "cell_type": "markdown",
      "metadata": {
        "id": "kgGw1a-Un6nq"
      },
      "source": [
        "## git 연동하기"
      ]
    },
    {
      "cell_type": "markdown",
      "metadata": {
        "id": "k3IiXQfdQOg0"
      },
      "source": [
        "- git: 코드 형상 관리, 협업 용이,\n",
        "- Settings > Github > 계정 정보 입력"
      ]
    },
    {
      "cell_type": "code",
      "execution_count": null,
      "metadata": {
        "id": "NuJHhO3xn6n1"
      },
      "outputs": [],
      "source": []
    }
  ],
  "metadata": {
    "colab": {
      "private_outputs": true,
      "provenance": [],
      "include_colab_link": true
    },
    "kernelspec": {
      "display_name": "Python 3",
      "language": "python",
      "name": "python3"
    },
    "language_info": {
      "codemirror_mode": {
        "name": "ipython",
        "version": 3
      },
      "file_extension": ".py",
      "mimetype": "text/x-python",
      "name": "python",
      "nbconvert_exporter": "python",
      "pygments_lexer": "ipython3",
      "version": "3.8.5"
    },
    "toc": {
      "base_numbering": 1,
      "nav_menu": {},
      "number_sections": false,
      "sideBar": true,
      "skip_h1_title": false,
      "title_cell": "Table of Contents",
      "title_sidebar": "Contents",
      "toc_cell": false,
      "toc_position": {},
      "toc_section_display": true,
      "toc_window_display": false
    },
    "gpuClass": "standard"
  },
  "nbformat": 4,
  "nbformat_minor": 0
}