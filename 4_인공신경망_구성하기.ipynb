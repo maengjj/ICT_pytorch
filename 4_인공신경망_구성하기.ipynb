{
  "cells": [
    {
      "cell_type": "markdown",
      "metadata": {
        "id": "XuGhasH-hXtw"
      },
      "source": [
        "# 인공신경망 구성하기"
      ]
    },
    {
      "cell_type": "markdown",
      "metadata": {
        "id": "bRlG4kkdhXt0"
      },
      "source": [
        "## 실습 목표\n",
        "----\n",
        "- pytorch의 주요 기능을 이해한다.\n",
        "- 주어진 데이터 셋을 활용하여 인공신경망을 설계한다. \n",
        "- 인공신경망 학습 과정을 코드로 작성하고, 학습이 완료된 모델을 생성한다"
      ]
    },
    {
      "cell_type": "markdown",
      "metadata": {
        "id": "YM7t-76uhXt1"
      },
      "source": [
        "## 문제 정의\n",
        "----\n",
        "\n",
        "multiclass classifier"
      ]
    },
    {
      "cell_type": "markdown",
      "source": [
        "## 주요 코드"
      ],
      "metadata": {
        "id": "49qo7WnYu0tY"
      }
    },
    {
      "cell_type": "markdown",
      "source": [
        "\n",
        "### 1. TensorDataset과 DataLoader\n",
        "\n",
        "- 입력 데이터를 쉽게 처리하고, 배치 단위로 잘러서 학습할 수 있게 도와주는 모듈\n",
        "- **Dataset** : 학습시 사용하는 feature와 target의 pair로 이루어짐. \n",
        "    - 아래에서 코드에서는 TensorDataset을 사용하여 Dataset 인스턴스를 생성했지만, 이미지의 사례와 같이 Dataset 클래스를 상속받아서 커스텀 인스턴스를 생성하는 형태로 많이 사용\n",
        "\n",
        "- **DataLoader**: 학습 시 각 인스턴스에 쉽게 접근할 수 있도록 순회 가능한 객체(iterable)를 생성\n",
        "\n",
        "![data loader](https://sebastianraschka.com/images/blog/2022/datapipes/loader-flow.png)\n",
        "\n",
        "\n",
        "- **Sample code**\n",
        "```\n",
        "from torch.utils.data import  TensorDataset, DataLoader\n",
        "```\n",
        "```\n",
        "# X,y로 분할한 데이터를 tensor로 변환\n",
        "X_train = torch.tensor(X_train, dtype=torch.float32)\n",
        "X_test = torch.tensor(X_test, dtype=torch.float32)\n",
        "y_train = torch.tensor(y_train, dtype=torch.int64)\n",
        "y_test = torch.tensor(y_test, dtype=torch.int64)\n",
        "```\n",
        "```\n",
        "# tensor를 TensorDataset으로 생성 - X와 y가 짝으로 이루어짐\n",
        "train_dataset = TensorDataset(X_train, y_train)\n",
        "test_dataset = TensorDataset(X_test, y_test)\n",
        "```\n",
        "```\n",
        "# DataLoader 형태로 생성\n",
        "train_dataloader = DataLoader(train_dataset, batch_size=10, shuffle=True)\n",
        "test_dataloader = DataLoader(test_dataset, batch_size=10, shuffle=True)\n",
        "```\n",
        "\n",
        "- **DataLoader가 하는 역할**\n",
        "    - shuffling\n",
        "    - batch ...\n",
        "    \n",
        "![data loader](https://sebastianraschka.com/images/blog/2022/datapipes/dataflow-good.png)\n"
      ],
      "metadata": {
        "id": "agoI8uI4u2Tg"
      }
    },
    {
      "cell_type": "markdown",
      "source": [
        "\n",
        "### 2. Device 설정\n",
        "- 일반적으로 인공신경망의 학습은 (가능하다면) GPU를 사용하는 것이 바람직함\n",
        "    - Colab Runtime 설정 변경\n",
        "- GPU를 사용하여 학습을 진행하도록 명시적으로 작성 필요\n",
        "- 연산 유형에 따라 GPU에서 수행이 불가능한 경우도 존재하는데, 그럴 경우도 마찬가지로 명시적으로 어떤 프로세서에서 연산을 수행해야하는지 코드로 작성해야함 \n",
        "\n",
        "```\n",
        "device = 'cuda' if torch.cuda.is_available() else 'cpu'\n",
        "model = NeuralNetwork().to(device)\n",
        "```\n"
      ],
      "metadata": {
        "id": "r9aKhw3gzx8c"
      }
    },
    {
      "cell_type": "markdown",
      "source": [
        "### 3. 신경망 생성\n",
        "\n",
        "- **torch.nn 패키지**는 신경망 생성 및 학습 시 설정해야하는 다양한 기능을 제공\n",
        "\n",
        "```\n",
        "import torch.nn as nn\n",
        "```\n",
        "- 신경망을 **nn.Module**을 상속받아 정의\n",
        "    - __ __init__ __(): 신경망에서 사용할 layer를 초기화하는 부분\n",
        "    - __forward()__: feed foward 연산 수행 시, 각 layer의 입출력이 어떻게 연결되는지를 지정\n",
        "\n",
        "```\n",
        "class NeuralNetwork(nn.Module):\n",
        "    def __init__(self):\n",
        "        super(NeuralNetwork, self).__init__()\n",
        "        self.input_layer    = nn.Linear(4, 16)\n",
        "        self.hidden_layer1  = nn.Linear(16, 32)\n",
        "        self.output_layer   = nn.Linear(32, 3)\n",
        "        self.relu = nn.ReLU()\n",
        "    \n",
        "    def forward(self, x):\n",
        "        out =  self.relu(self.input_layer(x))\n",
        "        out =  self.relu(self.hidden_layer1(out))\n",
        "        out =  self.output_layer(out)\n",
        "        return out\n",
        "\n",
        "```\n"
      ],
      "metadata": {
        "id": "mU4GSmP11aOi"
      }
    },
    {
      "cell_type": "markdown",
      "source": [
        "### 4. Model compile\n",
        "\n",
        "- 학습 시 필요한 정보들(loss function, optimizer)을 선언\n",
        "- 일반적으로 loss와 optimizer는 아래와 같이 변수로 선언하고, 변수를 train/test 시 참고할 수 있도록 매개변수로 지정해줌 \n",
        "\n",
        "```\n",
        "learning_rate = 0.01\n",
        "loss = nn.CrossEntropyLoss()\n",
        "optimizer = torch.optim.Adam(model.parameters(),lr=learning_rate)\n",
        "```\n"
      ],
      "metadata": {
        "id": "o47oW5LG2KvT"
      }
    },
    {
      "cell_type": "markdown",
      "source": [
        "### 5. Train\n",
        "- **신경망의 학습과정**을 별도의 함수로 구성하는 것이 일반적\n",
        "    - feed forward -> loss -> error back propagation -> (log) -> (반복)\n",
        "\n",
        "```\n",
        "def train_loop(train_loader, model, loss_fn, optimizer):\n",
        "    for batch, (X, y) in enumerate(train_loader):\n",
        "        X, y = X.to(device), y.to(device)\n",
        "        pred = model(X)\n",
        "        loss = loss_fn(pred, y)\n",
        "        optimizer.zero_grad()\n",
        "        loss.backward()\n",
        "        optimizer.step()\n",
        "```"
      ],
      "metadata": {
        "id": "ZU_4khRU28kP"
      }
    },
    {
      "cell_type": "markdown",
      "source": [
        "### 6. Test\n",
        "\n",
        "- 학습과정과 비슷하나 error back propagate하는 부분이 없음\n",
        "    - feed forward -> loss ->  (log) -> (반복)\n",
        "\n",
        "```\n",
        "def test_loop(test_loader, model, loss_fn):\n",
        "    size = len(test_loader.dataset)\n",
        "    num_batches = len(test_loader)\n",
        "    test_loss, correct = 0, 0\n",
        "\n",
        "    with torch.no_grad():\n",
        "        for X, y in test_loader:\n",
        "            X, y = X.to(device), y.to(device)\n",
        "            pred = model(X)\n",
        "            test_loss += loss_fn(pred, y).item()\n",
        "            correct += (pred.argmax(1) == y).type(torch.float).sum().item()\n",
        "\n",
        "    test_loss /= num_batches\n",
        "    correct /= size\n",
        "    print(f\"Test Error: \\n Accuracy: {(100*correct):>0.1f}%, Avg loss: {test_loss:8f}\\n\")\n"
      ],
      "metadata": {
        "id": "DI_l_z043pVW"
      }
    },
    {
      "cell_type": "markdown",
      "source": [
        "### 7. Iteration\n",
        "- 신경망 학습은 여러 epochs을 반복해서 수행하면서 모델을 구성하는 최적의 파라미터를 찾음\n",
        "- 지정한 epochs 수만큼 **학습**과정과 **평가**과정을 반복하면서, 모델의 성능(loss, accuracy 등)을 체크함\n",
        "\n",
        "```\n",
        "epochs = 10\n",
        "for i in range(epochs) :\n",
        "    print(f\"Epoch {i+1} \\n------------------------\")\n",
        "    train_loop(train_dataloader, model, loss, optimizer)\n",
        "    test_loop(test_dataloader, model, loss)\n",
        "print(\"Done!\")\n",
        "```"
      ],
      "metadata": {
        "id": "NepldSZC4SQT"
      }
    },
    {
      "cell_type": "markdown",
      "source": [
        "## Basic Neural Network\n",
        "\n",
        "iris 데이터셋을 사용하여 꽃의 품종을 구분하는 분류기를 신경망을 사용하여 구현해봅니다."
      ],
      "metadata": {
        "id": "RdWSITNN5N55"
      }
    },
    {
      "cell_type": "markdown",
      "source": [
        "#### [Step1] Load libraries & Datasets"
      ],
      "metadata": {
        "id": "_OZS5t3_5fq8"
      }
    },
    {
      "cell_type": "code",
      "execution_count": null,
      "metadata": {
        "id": "cyZUXXJkhXt1"
      },
      "outputs": [],
      "source": [
        "import numpy as np\n",
        "import pandas as pd\n",
        "import matplotlib.pyplot as plt\n",
        "import seaborn as sns\n",
        "from sklearn.datasets import load_iris\n",
        "from sklearn.model_selection import train_test_split\n",
        "import torch\n",
        "import torch.nn as nn\n",
        "from torch.utils.data import  TensorDataset, DataLoader\n",
        "\n",
        "# 데이터 불러오기\n",
        "iris = load_iris()\n",
        "df = pd.DataFrame(data=iris.data, columns=iris.feature_names)\n",
        "df['label'] = iris.target\n",
        "\n",
        "# 데이터분할\n",
        "y = df['label']\n",
        "X = df.drop(['label'], axis=1)\n",
        "\n",
        "X_train, X_test, y_train, y_test = train_test_split(X.values, y.values, random_state=42, stratify=y)\n"
      ]
    },
    {
      "cell_type": "markdown",
      "source": [
        "#### [Step2] Create DataLoader"
      ],
      "metadata": {
        "id": "zK8W6dJw5t2j"
      }
    },
    {
      "cell_type": "code",
      "source": [
        "X_train = torch.tensor(X_train, dtype=torch.float32)\n",
        "X_test = torch.tensor(X_test, dtype=torch.float32)\n",
        "y_train = torch.tensor(y_train, dtype=torch.int64)\n",
        "y_test = torch.tensor(y_test, dtype=torch.int64)\n",
        "\n",
        "train_dataset = TensorDataset(X_train, y_train)\n",
        "test_dataset = TensorDataset(X_test, y_test)\n",
        "\n",
        "train_dataloader = DataLoader(train_dataset, batch_size=10, shuffle=True)\n",
        "test_dataloader = DataLoader(test_dataset, batch_size=10, shuffle=True)"
      ],
      "metadata": {
        "id": "vhABi-mw5sZa"
      },
      "execution_count": null,
      "outputs": []
    },
    {
      "cell_type": "markdown",
      "source": [
        "#### [Step3] Set Network Structure"
      ],
      "metadata": {
        "id": "_0wC3m4k55xF"
      }
    },
    {
      "cell_type": "code",
      "source": [
        "class NeuralNetwork(nn.Module):\n",
        "    def __init__(self):\n",
        "        super(NeuralNetwork, self).__init__()\n",
        "        self.input_layer    = nn.Linear(4, 16)\n",
        "        self.hidden_layer1  = nn.Linear(16, 32)\n",
        "        self.output_layer   = nn.Linear(32, 3)\n",
        "        self.relu = nn.ReLU()    \n",
        "    \n",
        "    def forward(self,x):\n",
        "        out =  self.relu(self.input_layer(x))\n",
        "        out =  self.relu(self.hidden_layer1(out))\n",
        "        out =  self.output_layer(out)\n",
        "        return out"
      ],
      "metadata": {
        "id": "E2GUrsiR5yiZ"
      },
      "execution_count": null,
      "outputs": []
    },
    {
      "cell_type": "markdown",
      "source": [
        "#### [Step4] Create Model instance"
      ],
      "metadata": {
        "id": "-vdPdjRF6AqV"
      }
    },
    {
      "cell_type": "code",
      "source": [
        "device = 'cuda' if torch.cuda.is_available() else 'cpu'\n",
        "print(f'device = {device}')\n",
        "\n",
        "model = NeuralNetwork().to(device)\n"
      ],
      "metadata": {
        "colab": {
          "base_uri": "https://localhost:8080/"
        },
        "id": "w8GAkAm153uV",
        "outputId": "85fc5ab9-7113-4ffe-f223-14367cf0b26e"
      },
      "execution_count": null,
      "outputs": [
        {
          "output_type": "stream",
          "name": "stdout",
          "text": [
            "device = cpu\n"
          ]
        }
      ]
    },
    {
      "cell_type": "markdown",
      "source": [
        "#### [Step5] Model compile"
      ],
      "metadata": {
        "id": "TtK-wiwb6Nkh"
      }
    },
    {
      "cell_type": "code",
      "source": [
        "# 모델 컴파일\n",
        "learning_rate = 0.001\n",
        "loss = nn.CrossEntropyLoss()\n",
        "optimizer = torch.optim.Adam(model.parameters(),lr=learning_rate)"
      ],
      "metadata": {
        "id": "5tsuBMep6MK2"
      },
      "execution_count": null,
      "outputs": []
    },
    {
      "cell_type": "markdown",
      "source": [
        "#### [Step6] Set train loop"
      ],
      "metadata": {
        "id": "FIv0Csq76YGU"
      }
    },
    {
      "cell_type": "code",
      "source": [
        "def train_loop(train_loader, model, loss_fn, optimizer):\n",
        "    size = len(train_loader.dataset)\n",
        "\n",
        "    for batch, (X, y) in enumerate(train_loader):\n",
        "        X, y = X.to(device), y.to(device)\n",
        "        pred = model(X)\n",
        "\n",
        "        # 손실 계산\n",
        "        loss = loss_fn(pred, y)\n",
        "\n",
        "        # 역전파\n",
        "        optimizer.zero_grad()\n",
        "        loss.backward()\n",
        "        optimizer.step()\n",
        "        \n",
        "        loss, current = loss.item(), batch * len(X)\n",
        "        print(f'loss: {loss:>7f}  [{current:>5d}]/{size:5d}')\n"
      ],
      "metadata": {
        "id": "yBIp4bGA6TE-"
      },
      "execution_count": null,
      "outputs": []
    },
    {
      "cell_type": "markdown",
      "source": [
        "#### [Step7] Set test loop"
      ],
      "metadata": {
        "id": "uFQY-H_i6hz7"
      }
    },
    {
      "cell_type": "code",
      "source": [
        "def test_loop(test_loader, model, loss_fn):\n",
        "    size = len(test_loader.dataset)\n",
        "    num_batches = len(test_loader)\n",
        "    test_loss, correct = 0, 0\n",
        "\n",
        "    with torch.no_grad():\n",
        "        for X, y in test_loader:\n",
        "            X, y = X.to(device), y.to(device)\n",
        "            pred = model(X)\n",
        "            test_loss += loss_fn(pred, y).item()\n",
        "            correct += (pred.argmax(1) == y).type(torch.float).sum().item()\n",
        "\n",
        "    test_loss /= num_batches\n",
        "    correct /= size\n",
        "    print(f\"Test Error: \\n Accuracy: {(100*correct):>0.1f}%, Avg loss: {test_loss:8f}\\n\")"
      ],
      "metadata": {
        "id": "pi2tohiS6gbe"
      },
      "execution_count": null,
      "outputs": []
    },
    {
      "cell_type": "markdown",
      "source": [
        "#### [Step8] Run model"
      ],
      "metadata": {
        "id": "WeM2SWZg6mr1"
      }
    },
    {
      "cell_type": "code",
      "source": [
        "# 모델 실행\n",
        "epochs = 10\n",
        "\n",
        "for i in range(epochs) :\n",
        "    print(f\"Epoch {i+1} \\n------------------------\")\n",
        "    train_loop(train_dataloader, model, loss, optimizer)\n",
        "    test_loop(test_dataloader, model, loss)\n",
        "print(\"Done!\")"
      ],
      "metadata": {
        "colab": {
          "base_uri": "https://localhost:8080/"
        },
        "id": "n5BwYOdq6lzl",
        "outputId": "a4d29a3c-eb7f-4bbe-ecc5-28c48b0772c1"
      },
      "execution_count": null,
      "outputs": [
        {
          "output_type": "stream",
          "name": "stdout",
          "text": [
            "Epoch 1 \n",
            "------------------------\n",
            "loss: 1.099270  [    0]/  112\n",
            "loss: 1.193644  [   10]/  112\n",
            "loss: 0.948161  [   20]/  112\n",
            "loss: 1.281244  [   30]/  112\n",
            "loss: 1.294710  [   40]/  112\n",
            "loss: 0.992287  [   50]/  112\n",
            "loss: 0.988833  [   60]/  112\n",
            "loss: 1.117140  [   70]/  112\n",
            "loss: 1.091225  [   80]/  112\n",
            "loss: 1.071848  [   90]/  112\n",
            "loss: 1.197697  [  100]/  112\n",
            "loss: 1.339745  [   22]/  112\n",
            "Test Error: \n",
            " Accuracy: 34.2%, Avg loss: 1.074521\n",
            "\n",
            "Epoch 2 \n",
            "------------------------\n",
            "loss: 1.044127  [    0]/  112\n",
            "loss: 1.178932  [   10]/  112\n",
            "loss: 1.068602  [   20]/  112\n",
            "loss: 1.008665  [   30]/  112\n",
            "loss: 0.987687  [   40]/  112\n",
            "loss: 1.142917  [   50]/  112\n",
            "loss: 1.018464  [   60]/  112\n",
            "loss: 0.944644  [   70]/  112\n",
            "loss: 1.060463  [   80]/  112\n",
            "loss: 1.057936  [   90]/  112\n",
            "loss: 0.957378  [  100]/  112\n",
            "loss: 1.140843  [   22]/  112\n",
            "Test Error: \n",
            " Accuracy: 36.8%, Avg loss: 1.008873\n",
            "\n",
            "Epoch 3 \n",
            "------------------------\n",
            "loss: 0.989346  [    0]/  112\n",
            "loss: 0.990256  [   10]/  112\n",
            "loss: 0.926664  [   20]/  112\n",
            "loss: 0.942207  [   30]/  112\n",
            "loss: 1.056758  [   40]/  112\n",
            "loss: 1.013435  [   50]/  112\n",
            "loss: 0.973779  [   60]/  112\n",
            "loss: 1.036508  [   70]/  112\n",
            "loss: 0.961442  [   80]/  112\n",
            "loss: 0.974546  [   90]/  112\n",
            "loss: 0.956690  [  100]/  112\n",
            "loss: 0.879939  [   22]/  112\n",
            "Test Error: \n",
            " Accuracy: 65.8%, Avg loss: 0.962132\n",
            "\n",
            "Epoch 4 \n",
            "------------------------\n",
            "loss: 0.981322  [    0]/  112\n",
            "loss: 0.933548  [   10]/  112\n",
            "loss: 0.937506  [   20]/  112\n",
            "loss: 0.938606  [   30]/  112\n",
            "loss: 0.903996  [   40]/  112\n",
            "loss: 0.893776  [   50]/  112\n",
            "loss: 0.960478  [   60]/  112\n",
            "loss: 0.983070  [   70]/  112\n",
            "loss: 0.927726  [   80]/  112\n",
            "loss: 0.957658  [   90]/  112\n",
            "loss: 0.893653  [  100]/  112\n",
            "loss: 0.960266  [   22]/  112\n",
            "Test Error: \n",
            " Accuracy: 65.8%, Avg loss: 0.920509\n",
            "\n",
            "Epoch 5 \n",
            "------------------------\n",
            "loss: 0.841927  [    0]/  112\n",
            "loss: 0.923670  [   10]/  112\n",
            "loss: 0.836891  [   20]/  112\n",
            "loss: 0.971348  [   30]/  112\n",
            "loss: 0.909890  [   40]/  112\n",
            "loss: 0.852017  [   50]/  112\n",
            "loss: 0.855395  [   60]/  112\n",
            "loss: 0.913780  [   70]/  112\n",
            "loss: 0.870387  [   80]/  112\n",
            "loss: 0.825138  [   90]/  112\n",
            "loss: 0.859861  [  100]/  112\n",
            "loss: 0.735362  [   22]/  112\n",
            "Test Error: \n",
            " Accuracy: 65.8%, Avg loss: 0.855561\n",
            "\n",
            "Epoch 6 \n",
            "------------------------\n",
            "loss: 0.858140  [    0]/  112\n",
            "loss: 0.780693  [   10]/  112\n",
            "loss: 0.791127  [   20]/  112\n",
            "loss: 0.787855  [   30]/  112\n",
            "loss: 0.802020  [   40]/  112\n",
            "loss: 0.864843  [   50]/  112\n",
            "loss: 0.846354  [   60]/  112\n",
            "loss: 0.803610  [   70]/  112\n",
            "loss: 0.879342  [   80]/  112\n",
            "loss: 0.787824  [   90]/  112\n",
            "loss: 0.781500  [  100]/  112\n",
            "loss: 0.651174  [   22]/  112\n",
            "Test Error: \n",
            " Accuracy: 65.8%, Avg loss: 0.792355\n",
            "\n",
            "Epoch 7 \n",
            "------------------------\n",
            "loss: 0.816294  [    0]/  112\n",
            "loss: 0.830445  [   10]/  112\n",
            "loss: 0.822043  [   20]/  112\n",
            "loss: 0.782541  [   30]/  112\n",
            "loss: 0.795018  [   40]/  112\n",
            "loss: 0.682595  [   50]/  112\n",
            "loss: 0.772433  [   60]/  112\n",
            "loss: 0.757619  [   70]/  112\n",
            "loss: 0.602700  [   80]/  112\n",
            "loss: 0.626925  [   90]/  112\n",
            "loss: 0.751577  [  100]/  112\n",
            "loss: 0.563928  [   22]/  112\n",
            "Test Error: \n",
            " Accuracy: 65.8%, Avg loss: 0.726808\n",
            "\n",
            "Epoch 8 \n",
            "------------------------\n",
            "loss: 0.647989  [    0]/  112\n",
            "loss: 0.636706  [   10]/  112\n",
            "loss: 0.663059  [   20]/  112\n",
            "loss: 0.695776  [   30]/  112\n",
            "loss: 0.726085  [   40]/  112\n",
            "loss: 0.644172  [   50]/  112\n",
            "loss: 0.791503  [   60]/  112\n",
            "loss: 0.789492  [   70]/  112\n",
            "loss: 0.717450  [   80]/  112\n",
            "loss: 0.594027  [   90]/  112\n",
            "loss: 0.677348  [  100]/  112\n",
            "loss: 0.448270  [   22]/  112\n",
            "Test Error: \n",
            " Accuracy: 65.8%, Avg loss: 0.665889\n",
            "\n",
            "Epoch 9 \n",
            "------------------------\n",
            "loss: 0.646113  [    0]/  112\n",
            "loss: 0.591645  [   10]/  112\n",
            "loss: 0.618576  [   20]/  112\n",
            "loss: 0.657102  [   30]/  112\n",
            "loss: 0.621623  [   40]/  112\n",
            "loss: 0.656831  [   50]/  112\n",
            "loss: 0.593007  [   60]/  112\n",
            "loss: 0.604273  [   70]/  112\n",
            "loss: 0.706478  [   80]/  112\n",
            "loss: 0.543166  [   90]/  112\n",
            "loss: 0.621676  [  100]/  112\n",
            "loss: 0.745572  [   22]/  112\n",
            "Test Error: \n",
            " Accuracy: 65.8%, Avg loss: 0.626791\n",
            "\n",
            "Epoch 10 \n",
            "------------------------\n",
            "loss: 0.711284  [    0]/  112\n",
            "loss: 0.784461  [   10]/  112\n",
            "loss: 0.453956  [   20]/  112\n",
            "loss: 0.521275  [   30]/  112\n",
            "loss: 0.568618  [   40]/  112\n",
            "loss: 0.688252  [   50]/  112\n",
            "loss: 0.578884  [   60]/  112\n",
            "loss: 0.435012  [   70]/  112\n",
            "loss: 0.402755  [   80]/  112\n",
            "loss: 0.543567  [   90]/  112\n",
            "loss: 0.654987  [  100]/  112\n",
            "loss: 0.694626  [   22]/  112\n",
            "Test Error: \n",
            " Accuracy: 65.8%, Avg loss: 0.583506\n",
            "\n",
            "Done!\n"
          ]
        }
      ]
    }
  ],
  "metadata": {
    "kernelspec": {
      "display_name": "Python 3",
      "language": "python",
      "name": "python3"
    },
    "language_info": {
      "codemirror_mode": {
        "name": "ipython",
        "version": 3
      },
      "file_extension": ".py",
      "mimetype": "text/x-python",
      "name": "python",
      "nbconvert_exporter": "python",
      "pygments_lexer": "ipython3",
      "version": "3.8.5"
    },
    "toc": {
      "base_numbering": 1,
      "nav_menu": {},
      "number_sections": false,
      "sideBar": true,
      "skip_h1_title": false,
      "title_cell": "Table of Contents",
      "title_sidebar": "Contents",
      "toc_cell": false,
      "toc_position": {},
      "toc_section_display": true,
      "toc_window_display": false
    },
    "colab": {
      "provenance": []
    },
    "accelerator": "GPU",
    "gpuClass": "standard"
  },
  "nbformat": 4,
  "nbformat_minor": 0
}