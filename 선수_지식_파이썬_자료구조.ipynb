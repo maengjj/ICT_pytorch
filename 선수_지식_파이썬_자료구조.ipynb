{
  "nbformat": 4,
  "nbformat_minor": 0,
  "metadata": {
    "colab": {
      "provenance": [],
      "include_colab_link": true
    },
    "kernelspec": {
      "name": "python3",
      "display_name": "Python 3"
    },
    "language_info": {
      "name": "python"
    }
  },
  "cells": [
    {
      "cell_type": "markdown",
      "metadata": {
        "id": "view-in-github",
        "colab_type": "text"
      },
      "source": [
        "<a href=\"https://colab.research.google.com/github/maengjj/ICT_pytorch/blob/main/%EC%84%A0%EC%88%98_%EC%A7%80%EC%8B%9D_%ED%8C%8C%EC%9D%B4%EC%8D%AC_%EC%9E%90%EB%A3%8C%EA%B5%AC%EC%A1%B0.ipynb\" target=\"_parent\"><img src=\"https://colab.research.google.com/assets/colab-badge.svg\" alt=\"Open In Colab\"/></a>"
      ]
    },
    {
      "cell_type": "markdown",
      "source": [
        "#### <b>배열(Array)</b>\n",
        "\n",
        "* 파이썬(Python)에서 다음과 같이 배열을 초기화할 수 있다."
      ],
      "metadata": {
        "id": "dnLET2O-ZNcT"
      }
    },
    {
      "cell_type": "code",
      "source": [
        "# [0, 0, 0, 0, 0]\n",
        "n = 5\n",
        "arr = [0] * n\n",
        "print(arr)\n",
        "\n",
        "# [0, 1, 2, 3, 4]\n",
        "n = 5\n",
        "arr = [i for i in range(n)]\n",
        "print(arr)"
      ],
      "metadata": {
        "colab": {
          "base_uri": "https://localhost:8080/"
        },
        "id": "aTG6Y_H0ZQef",
        "outputId": "8ed07aba-cb42-4df4-8b7f-0c136a245845"
      },
      "execution_count": 1,
      "outputs": [
        {
          "output_type": "stream",
          "name": "stdout",
          "text": [
            "[0, 0, 0, 0, 0]\n",
            "[0, 1, 2, 3, 4]\n"
          ]
        }
      ]
    },
    {
      "cell_type": "code",
      "source": [
        "n = 3\n",
        "m = 5\n",
        "arr = [[0] * m for i in range(n)]\n",
        "print(arr)"
      ],
      "metadata": {
        "colab": {
          "base_uri": "https://localhost:8080/"
        },
        "id": "7jUSdX5zZa1i",
        "outputId": "425a5232-afd4-4e6f-e23d-1a36d95facc3"
      },
      "execution_count": null,
      "outputs": [
        {
          "output_type": "stream",
          "name": "stdout",
          "text": [
            "[[0, 0, 0, 0, 0], [0, 0, 0, 0, 0], [0, 0, 0, 0, 0]]\n"
          ]
        }
      ]
    },
    {
      "cell_type": "code",
      "source": [
        "n = 3\n",
        "m = 5\n",
        "arr = [[i * m + j for j in range(m)] for i in range(n)]\n",
        "print(arr)"
      ],
      "metadata": {
        "colab": {
          "base_uri": "https://localhost:8080/"
        },
        "id": "eWCreV-QZcIz",
        "outputId": "93b90d16-3b59-489b-b3b4-766605cf75ee"
      },
      "execution_count": null,
      "outputs": [
        {
          "output_type": "stream",
          "name": "stdout",
          "text": [
            "[[0, 1, 2, 3, 4], [5, 6, 7, 8, 9], [10, 11, 12, 13, 14]]\n"
          ]
        }
      ]
    },
    {
      "cell_type": "code",
      "source": [
        "n = 3\n",
        "m = 5\n",
        "arr1 = [[0] * m] * n\n",
        "arr2 = [[0] * m for i in range(n)]\n",
        "\n",
        "arr1[1][3] = 7\n",
        "arr2[1][3] = 7\n",
        "\n",
        "print(arr1)\n",
        "print(arr2)"
      ],
      "metadata": {
        "colab": {
          "base_uri": "https://localhost:8080/"
        },
        "id": "UTIIDmJIZgSb",
        "outputId": "c29246e0-c89e-493f-80a5-b32981e7df7e"
      },
      "execution_count": null,
      "outputs": [
        {
          "output_type": "stream",
          "name": "stdout",
          "text": [
            "[[0, 0, 0, 7, 0], [0, 0, 0, 7, 0], [0, 0, 0, 7, 0]]\n",
            "[[0, 0, 0, 0, 0], [0, 0, 0, 7, 0], [0, 0, 0, 0, 0]]\n"
          ]
        }
      ]
    },
    {
      "cell_type": "code",
      "source": [
        "arr = [0, 1, 2, 3, 4, 5, 6, 7, 8]\n",
        "print(arr)"
      ],
      "metadata": {
        "colab": {
          "base_uri": "https://localhost:8080/"
        },
        "id": "c-mSMWIRZhJK",
        "outputId": "99b1b57b-af67-4023-ae25-07686e4f995e"
      },
      "execution_count": null,
      "outputs": [
        {
          "output_type": "stream",
          "name": "stdout",
          "text": [
            "[0, 1, 2, 3, 4, 5, 6, 7, 8]\n"
          ]
        }
      ]
    },
    {
      "cell_type": "markdown",
      "source": [
        "#### <b>연결 리스트(Linked List)</b>"
      ],
      "metadata": {
        "id": "AvWqFGM8Chke"
      }
    },
    {
      "cell_type": "code",
      "source": [
        "class Node:\n",
        "    def __init__(self, data):\n",
        "        self.data = data\n",
        "        self.next = None\n",
        "\n",
        "\n",
        "class LinkedList:\n",
        "    def __init__(self):\n",
        "        self.head = None\n",
        "\n",
        "    # 가장 뒤에 노드 삽입\n",
        "    def append(self, data):\n",
        "        # 헤드(head)가 비어있는 경우\n",
        "        if self.head == None:\n",
        "            self.head = Node(data)\n",
        "            return\n",
        "        # 마지막 위치에 새로운 노드 추가\n",
        "        cur = self.head\n",
        "        while cur.next is not None:\n",
        "            cur = cur.next\n",
        "        cur.next = Node(data)\n",
        "\n",
        "    # 모든 노드를 하나씩 출력\n",
        "    def show(self):\n",
        "        cur = self.head\n",
        "        while cur is not None:\n",
        "            print(cur.data, end=\" \")\n",
        "            cur = cur.next\n",
        "\n",
        "    # 특정 인덱스(index)의 노드 찾기\n",
        "    def search(self, index):\n",
        "        node = self.head\n",
        "        for _ in range(index):\n",
        "            node = node.next\n",
        "        return node\n",
        "\n",
        "    # 특정 인덱스(index)에 노드 삽입\n",
        "    def insert(self, index, data):\n",
        "        new = Node(data)\n",
        "        # 첫 위치에 추가하는 경우\n",
        "        if index == 0:\n",
        "            new.next = self.head\n",
        "            self.head = new\n",
        "            return\n",
        "        # 삽입할 위치의 앞 노드\n",
        "        node = self.search(index - 1)\n",
        "        next = node.next\n",
        "        node.next = new\n",
        "        new.next = next\n",
        "\n",
        "    # 특정 인덱스(index)의 노드 삭제\n",
        "    def remove(self, index):\n",
        "        # 첫 위치를 삭제하는 경우\n",
        "        if index == 0:\n",
        "            self.head = self.head.next\n",
        "            return\n",
        "        # 삭제할 위치의 앞 노드\n",
        "        front = self.search(index - 1)\n",
        "        front.next = front.next.next\n",
        "\n",
        "\n",
        "linked_list = LinkedList()\n",
        "data_list = [3, 5, 9, 8, 5, 6, 1, 7]\n",
        "\n",
        "for data in data_list:\n",
        "    linked_list.append(data)\n",
        "\n",
        "print(\"전체 노드 출력:\", end=\" \")\n",
        "linked_list.show()\n",
        "\n",
        "linked_list.insert(4, 4)\n",
        "print(\"\\n전체 노드 출력:\", end=\" \")\n",
        "linked_list.show()\n",
        "\n",
        "linked_list.remove(7)\n",
        "print(\"\\n전체 노드 출력:\", end=\" \")\n",
        "linked_list.show()\n",
        "\n",
        "linked_list.insert(7, 2)\n",
        "print(\"\\n전체 노드 출력:\", end=\" \")\n",
        "linked_list.show()"
      ],
      "metadata": {
        "colab": {
          "base_uri": "https://localhost:8080/"
        },
        "id": "xFiaxqB9CoGG",
        "outputId": "7114f9bc-bb0f-425e-b12c-36d4ca1cfba8"
      },
      "execution_count": 2,
      "outputs": [
        {
          "output_type": "stream",
          "name": "stdout",
          "text": [
            "전체 노드 출력: 3 5 9 8 5 6 1 7 \n",
            "전체 노드 출력: 3 5 9 8 4 5 6 1 7 \n",
            "전체 노드 출력: 3 5 9 8 4 5 6 7 \n",
            "전체 노드 출력: 3 5 9 8 4 5 6 2 7 "
          ]
        }
      ]
    },
    {
      "cell_type": "markdown",
      "source": [
        "#### <b>파이썬에서의 리스트(List)</b>"
      ],
      "metadata": {
        "id": "gVo7dwk5Z9bi"
      }
    },
    {
      "cell_type": "code",
      "source": [
        "arr = [0, 1, 2, 3, 4, 5, 6, 7, 8, 9]\n",
        "print(arr[4]) # 인덱싱(indexing)\n",
        "\n",
        "# 저장(storing)\n",
        "arr[7] = 10\n",
        "\n",
        "# 뒤에 붙이기(append)\n",
        "arr.append(10)\n",
        "print(arr)\n",
        "\n",
        "# 뒤에서 꺼내기(pop)\n",
        "arr.pop()\n",
        "print(arr)\n",
        "\n",
        "# 길이(length)\n",
        "print(len(arr))\n",
        "\n",
        "# 배열 비우기(clear)\n",
        "arr.clear()\n",
        "print(arr)"
      ],
      "metadata": {
        "colab": {
          "base_uri": "https://localhost:8080/"
        },
        "id": "U81fkdIaaABO",
        "outputId": "eb57137c-4047-4ac0-b8de-43db06adb184"
      },
      "execution_count": 3,
      "outputs": [
        {
          "output_type": "stream",
          "name": "stdout",
          "text": [
            "4\n",
            "[0, 1, 2, 3, 4, 5, 6, 10, 8, 9, 10]\n",
            "[0, 1, 2, 3, 4, 5, 6, 10, 8, 9]\n",
            "10\n",
            "[]\n"
          ]
        }
      ]
    },
    {
      "cell_type": "code",
      "source": [
        "arr = [0, 1, 2, 3, 4, 5, 6, 7, 8, 9]\n",
        "new_arr = arr[2:7] # 슬라이싱(slicing)\n",
        "print(new_arr)\n",
        "\n",
        "arr1 = [0, 1, 2, 3, 4]\n",
        "arr2 = [5, 6, 7, 8, 9]\n",
        "arr1.extend(arr2) # 확장(extend)\n",
        "print(arr1)\n",
        "\n",
        "arr = [0, 1, 2, 3, 4]\n",
        "arr.insert(3, 7) # 삽입(insertion)\n",
        "print(arr)\n",
        "\n",
        "del arr[3] # 삭제(delete)\n",
        "print(arr)\n",
        "\n",
        "data = {7, 8, 9}\n",
        "arr = list(data) # 다른 자료구조로 리스트 만들기\n",
        "print(arr)"
      ],
      "metadata": {
        "colab": {
          "base_uri": "https://localhost:8080/"
        },
        "id": "0EWuWosydp7-",
        "outputId": "4615bbb3-b09d-4a07-b05f-e78eca913711"
      },
      "execution_count": 4,
      "outputs": [
        {
          "output_type": "stream",
          "name": "stdout",
          "text": [
            "[2, 3, 4, 5, 6]\n",
            "[0, 1, 2, 3, 4, 5, 6, 7, 8, 9]\n",
            "[0, 1, 2, 7, 3, 4]\n",
            "[0, 1, 2, 3, 4]\n",
            "[8, 9, 7]\n"
          ]
        }
      ]
    },
    {
      "cell_type": "markdown",
      "source": [
        "수열 : 수열 나열  \n",
        "등차수열(+, -), 등비수열(*, /), 피보나치수열(1+1+2+3+5+8+13+21+34+...)"
      ],
      "metadata": {
        "id": "COCVJKq-Vot4"
      }
    },
    {
      "cell_type": "code",
      "source": [
        "arr = [0, 1, 2, 3, 4]\n",
        "\n",
        "print(3 in arr) # 존재 여부(in)\n",
        "print(7 not in arr) # 비존재 여부(not in)\n",
        "\n",
        "arr.pop(1) # 인덱스 1에 해당하는 원소 꺼내기(pop)\n",
        "print(arr)\n",
        "\n",
        "arr.remove(3) # 리스트의 특정 원소 삭제(remove)\n",
        "print(arr)\n",
        "\n",
        "new_arr = arr.copy() # 복제(copy)\n",
        "print(new_arr)"
      ],
      "metadata": {
        "colab": {
          "base_uri": "https://localhost:8080/"
        },
        "id": "8aiuZq-Sfael",
        "outputId": "c772bfa6-ed78-4b86-d90e-23cd0708e7cf"
      },
      "execution_count": 5,
      "outputs": [
        {
          "output_type": "stream",
          "name": "stdout",
          "text": [
            "True\n",
            "True\n",
            "[0, 2, 3, 4]\n",
            "[0, 2, 4]\n",
            "[0, 2, 4]\n"
          ]
        }
      ]
    },
    {
      "cell_type": "code",
      "source": [
        "arr = [3, 5, 4, 1, 2]\n",
        "\n",
        "print(min(arr)) # 최소(min)\n",
        "print(max(arr)) # 최대(max)\n",
        "\n",
        "for x in arr: # 원소 순회(iteration)\n",
        "    print(x, end=\" \")\n",
        "print()\n",
        "\n",
        "print(arr * 2) # 리스트 반복하여 곱하기(multiply)\n",
        "\n",
        "arr.sort() # 정렬(sorting)\n",
        "print(arr)"
      ],
      "metadata": {
        "colab": {
          "base_uri": "https://localhost:8080/"
        },
        "id": "AMGXjqWRgmx8",
        "outputId": "63ef635c-6224-431a-f333-ed57b68ec7d4"
      },
      "execution_count": 6,
      "outputs": [
        {
          "output_type": "stream",
          "name": "stdout",
          "text": [
            "1\n",
            "5\n",
            "3 5 4 1 2 \n",
            "[3, 5, 4, 1, 2, 3, 5, 4, 1, 2]\n",
            "[1, 2, 3, 4, 5]\n"
          ]
        }
      ]
    },
    {
      "cell_type": "markdown",
      "source": [
        "#### <b>스택(Stack) - 리스트 자료형을 이용한 구현</b>\n",
        "\n",
        "* 가장 마지막에 들어온 원소가 가장 먼저 추출되는 자료구조다."
      ],
      "metadata": {
        "id": "oRr-XzL8RZM0"
      }
    },
    {
      "cell_type": "code",
      "source": [
        "class Stack:\n",
        "    def __init__(self):\n",
        "        self.stack = []\n",
        "\n",
        "    def push(self, data):\n",
        "        # 마지막 위치에 원소 삽입\n",
        "        self.stack.append(data)\n",
        "\n",
        "    def pop(self):\n",
        "        if self.is_empty():\n",
        "            return None\n",
        "        # 마지막 원소 추출\n",
        "        return self.stack.pop()\n",
        "\n",
        "    def top(self):\n",
        "        if self.is_empty():\n",
        "            return None\n",
        "        # 마지막 원소 반환\n",
        "        return self.stack[-1]\n",
        "\n",
        "    def is_empty(self):\n",
        "        return len(self.stack) == 0\n",
        "\n",
        "\n",
        "stack = Stack()\n",
        "arr = [9, 7, 2, 5, 6, 4, 2]\n",
        "for x in arr:\n",
        "    stack.push(x)\n",
        "\n",
        "while not stack.is_empty():\n",
        "    print(stack.pop())"
      ],
      "metadata": {
        "colab": {
          "base_uri": "https://localhost:8080/"
        },
        "id": "XSuIE1YYRgEp",
        "outputId": "fe4bacf2-c066-44c4-cf01-564e07b1d61f"
      },
      "execution_count": 7,
      "outputs": [
        {
          "output_type": "stream",
          "name": "stdout",
          "text": [
            "2\n",
            "4\n",
            "6\n",
            "5\n",
            "2\n",
            "7\n",
            "9\n"
          ]
        }
      ]
    },
    {
      "cell_type": "markdown",
      "source": [
        "#### <b>스택(Stack) - 연결 리스트를 이용한 구현</b>\n",
        "\n",
        "* 가장 마지막에 들어온 원소가 가장 먼저 추출되는 자료구조다."
      ],
      "metadata": {
        "id": "pyswdqEabPjb"
      }
    },
    {
      "cell_type": "code",
      "source": [
        "class Node:\n",
        "    def __init__(self, data):\n",
        "        self.data = data\n",
        "        self.next = None\n",
        "\n",
        "\n",
        "class Stack:\n",
        "    def __init__(self):\n",
        "        self.head = None\n",
        "\n",
        "    # 원소 삽입\n",
        "    def push(self, data):\n",
        "        node = Node(data)\n",
        "        node.next = self.head\n",
        "        self.head = node\n",
        "\n",
        "    # 원소 추출하기\n",
        "    def pop(self):\n",
        "        if self.is_empty():\n",
        "            return None\n",
        "\n",
        "        # 머리(head) 위치에서 노드 꺼내기\n",
        "        data = self.head.data\n",
        "        self.head = self.head.next\n",
        "\n",
        "        return data\n",
        "\n",
        "    # 최상위 원소(top)\n",
        "    def top(self):\n",
        "        if self.is_empty():\n",
        "            return None\n",
        "        return self.head.data\n",
        "\n",
        "    # 먼저 추출할 원소부터 출력\n",
        "    def show(self):\n",
        "        cur = self.head\n",
        "        while cur:\n",
        "            print(cur.data, end=\" \")\n",
        "            cur = cur.next\n",
        "\n",
        "    # 스택이 비어있는지 확인\n",
        "    def is_empty(self):\n",
        "        return self.head is None\n",
        "\n",
        "\n",
        "stack = Stack()\n",
        "arr = [9, 7, 2, 5, 6, 4, 2]\n",
        "for x in arr:\n",
        "    stack.push(x)\n",
        "stack.show()\n",
        "print()\n",
        "\n",
        "while not stack.is_empty():\n",
        "    print(stack.pop())"
      ],
      "metadata": {
        "colab": {
          "base_uri": "https://localhost:8080/"
        },
        "id": "9tivInbbbRoA",
        "outputId": "5737f6e3-e7fc-4aad-c94a-81f61be7fe09"
      },
      "execution_count": 8,
      "outputs": [
        {
          "output_type": "stream",
          "name": "stdout",
          "text": [
            "2 4 6 5 2 7 9 \n",
            "2\n",
            "4\n",
            "6\n",
            "5\n",
            "2\n",
            "7\n",
            "9\n"
          ]
        }
      ]
    },
    {
      "cell_type": "markdown",
      "source": [
        "#### <b>큐(Queue) - 연결 리스트를 이용한 구현</b>\n",
        "\n",
        "* 가장 먼저 삽입된 원소가 먼저 추출되는 자료구조다."
      ],
      "metadata": {
        "id": "sYMRGhKFbme0"
      }
    },
    {
      "cell_type": "code",
      "source": [
        "class Node:\n",
        "    def __init__(self, data):\n",
        "        self.data = data\n",
        "        self.next = None\n",
        "\n",
        "\n",
        "class Queue:\n",
        "    def __init__(self):\n",
        "        self.head = None\n",
        "        self.tail = None\n",
        "\n",
        "    def enqueue(self, data):\n",
        "        node = Node(data)\n",
        "        if self.head == None:\n",
        "            self.head = node\n",
        "            self.tail = node\n",
        "        # 꼬리(tail) 위치에 새로운 노드 삽입\n",
        "        else:\n",
        "            self.tail.next = node\n",
        "            self.tail = self.tail.next\n",
        "\n",
        "    def dequeue(self):\n",
        "        if self.head == None:\n",
        "            return None\n",
        "\n",
        "        # 머리(head) 위치에서 노드 꺼내기\n",
        "        data = self.head.data\n",
        "        self.head = self.head.next\n",
        "\n",
        "        return data\n",
        "\n",
        "    def show(self):\n",
        "        cur = self.head\n",
        "        while cur:\n",
        "            print(cur.data, end=\" \")\n",
        "            cur = cur.next\n",
        "\n",
        "\n",
        "queue = Queue()\n",
        "data_list = [3, 5, 9, 8, 5, 6, 1, 7]\n",
        "\n",
        "for data in data_list:\n",
        "    queue.enqueue(data)\n",
        "\n",
        "print(\"\\n전체 노드 출력:\", end=\" \")\n",
        "queue.show()\n",
        "\n",
        "print(\"\\n[원소 삭제]\")\n",
        "print(queue.dequeue())\n",
        "print(queue.dequeue())\n",
        "print(queue.dequeue())\n",
        "\n",
        "print(\"[원소 삽입]\")\n",
        "queue.enqueue(2)\n",
        "queue.enqueue(5)\n",
        "queue.enqueue(3)\n",
        "\n",
        "print(\"전체 노드 출력:\", end=\" \")\n",
        "queue.show()"
      ],
      "metadata": {
        "colab": {
          "base_uri": "https://localhost:8080/"
        },
        "id": "U2gEndGwboWw",
        "outputId": "14161c0b-2e7d-48f0-ef4f-903c46e0cd20"
      },
      "execution_count": 9,
      "outputs": [
        {
          "output_type": "stream",
          "name": "stdout",
          "text": [
            "\n",
            "전체 노드 출력: 3 5 9 8 5 6 1 7 \n",
            "[원소 삭제]\n",
            "3\n",
            "5\n",
            "9\n",
            "[원소 삽입]\n",
            "전체 노드 출력: 8 5 6 1 7 2 5 3 "
          ]
        }
      ]
    },
    {
      "cell_type": "markdown",
      "source": [
        "* 큐(queue)의 구현 방식에 따른 연산 속도를 비교할 수 있다."
      ],
      "metadata": {
        "id": "MjzS1oXnhUsS"
      }
    },
    {
      "cell_type": "code",
      "source": [
        "import time\n",
        "\n",
        "data_list = [i for i in range(100000)]\n",
        "\n",
        "start_time = time.time()\n",
        "\n",
        "queue = []\n",
        "for data in data_list:\n",
        "    queue.append(data)\n",
        "while queue:\n",
        "    queue.pop(0)\n",
        "\n",
        "print(f\"Elapsed time: {time.time() - start_time} seconds.\")\n",
        "print(queue)\n",
        "\n",
        "start_time = time.time()\n",
        "\n",
        "queue = Queue()\n",
        "for data in data_list:\n",
        "    queue.enqueue(data)\n",
        "while queue.head != None:\n",
        "    queue.dequeue()\n",
        "\n",
        "print(f\"Elapsed time: {time.time() - start_time} seconds.\")\n",
        "queue.show()"
      ],
      "metadata": {
        "colab": {
          "base_uri": "https://localhost:8080/"
        },
        "id": "qAV6PFmNcP9L",
        "outputId": "16abc15d-f0f5-4cd5-c415-212e018319f0"
      },
      "execution_count": 10,
      "outputs": [
        {
          "output_type": "stream",
          "name": "stdout",
          "text": [
            "Elapsed time: 0.9087531566619873 seconds.\n",
            "[]\n",
            "Elapsed time: 0.26145029067993164 seconds.\n"
          ]
        }
      ]
    },
    {
      "cell_type": "markdown",
      "source": [
        "#### <b>덱(Deque) - 파이썬 라이브러리를 이용한 구현</b>\n",
        "\n",
        "* 왼쪽과 오른쪽 모두에서 삽입과 삭제할 수 있는 자료구조다."
      ],
      "metadata": {
        "id": "BbfDaLZJeGyM"
      }
    },
    {
      "cell_type": "code",
      "source": [
        "from collections import deque\n",
        "\n",
        "\n",
        "d = deque()\n",
        "arr = [5, 6, 7, 8]\n",
        "for x in arr:\n",
        "    d.append(x)\n",
        "arr = [4, 3, 2, 1]\n",
        "for x in arr:\n",
        "    d.appendleft(x)\n",
        "print(d)\n",
        "\n",
        "while d:\n",
        "    print(d.popleft())\n",
        "\n",
        "arr = [1, 2, 3, 4, 5, 6, 7, 8]\n",
        "for x in arr:\n",
        "    d.appendleft(x)\n",
        "print(d)\n",
        "\n",
        "while True:\n",
        "    print(d.pop())\n",
        "    if not d:\n",
        "        break\n",
        "    print(d.popleft())\n",
        "    if not d:\n",
        "        break"
      ],
      "metadata": {
        "colab": {
          "base_uri": "https://localhost:8080/"
        },
        "id": "k4k1K8RUeGKv",
        "outputId": "6285b1ac-1949-47c1-e126-c28b5b6e6c9a"
      },
      "execution_count": 11,
      "outputs": [
        {
          "output_type": "stream",
          "name": "stdout",
          "text": [
            "deque([1, 2, 3, 4, 5, 6, 7, 8])\n",
            "1\n",
            "2\n",
            "3\n",
            "4\n",
            "5\n",
            "6\n",
            "7\n",
            "8\n",
            "deque([8, 7, 6, 5, 4, 3, 2, 1])\n",
            "1\n",
            "8\n",
            "2\n",
            "7\n",
            "3\n",
            "6\n",
            "4\n",
            "5\n"
          ]
        }
      ]
    },
    {
      "cell_type": "markdown",
      "source": [
        "#### <b>덱(Deque) - 연결 리스트를 이용한 구현</b>\n",
        "\n",
        "* 왼쪽과 오른쪽 모두에서 삽입과 삭제할 수 있는 자료구조다."
      ],
      "metadata": {
        "id": "JkGON47uej5r"
      }
    },
    {
      "cell_type": "code",
      "source": [
        "class Node:\n",
        "    def __init__(self, data):\n",
        "        self.data = data\n",
        "        self.prev = None\n",
        "        self.next = None\n",
        "\n",
        "\n",
        "class Deque:\n",
        "    def __init__(self):\n",
        "        self.front = None\n",
        "        self.rear = None\n",
        "        self.size = 0\n",
        "\n",
        "    def appendleft(self, data):\n",
        "        node = Node(data)\n",
        "        if self.front == None:\n",
        "            self.front = node\n",
        "            self.rear = node\n",
        "        else:\n",
        "            node.next = self.front\n",
        "            self.front.prev = node\n",
        "            self.front = node\n",
        "        self.size += 1\n",
        "\n",
        "    def append(self, data):\n",
        "        node = Node(data)\n",
        "        if self.rear == None:\n",
        "            self.front = node\n",
        "            self.rear = node\n",
        "        else:\n",
        "            node.prev = self.rear\n",
        "            self.rear.next = node\n",
        "            self.rear = node\n",
        "        self.size += 1\n",
        "\n",
        "    def popleft(self):\n",
        "        if self.size == 0:\n",
        "            return None\n",
        "        # 앞에서 노드 꺼내기\n",
        "        data = self.front.data\n",
        "        self.front = self.front.next\n",
        "        # 삭제로 인해 노드가 하나도 없는 경우\n",
        "        if self.front == None:\n",
        "            self.rear = None\n",
        "        else:\n",
        "            self.front.prev = None\n",
        "        self.size -= 1\n",
        "        return data\n",
        "\n",
        "    def pop(self):\n",
        "        if self.size == 0:\n",
        "            return None\n",
        "        # 뒤에서 노드 꺼내기\n",
        "        data = self.rear.data\n",
        "        self.rear = self.rear.prev\n",
        "        # 삭제로 인해 노드가 하나도 없는 경우\n",
        "        if self.rear == None:\n",
        "            self.front = None\n",
        "        else:\n",
        "            self.rear.next = None\n",
        "        self.size -= 1\n",
        "        return data\n",
        "\n",
        "    def front(self):\n",
        "        if self.size == 0:\n",
        "            return None\n",
        "        return self.front.data\n",
        "\n",
        "    def rear(self):\n",
        "        if self.size == 0:\n",
        "            return None\n",
        "        return self.rear.data\n",
        "\n",
        "    # 앞에서부터 원소 출력\n",
        "    def show(self):\n",
        "        cur = self.front\n",
        "        while cur:\n",
        "            print(cur.data, end=\" \")\n",
        "            cur = cur.next\n",
        "\n",
        "\n",
        "d = Deque()\n",
        "arr = [5, 6, 7, 8]\n",
        "for x in arr:\n",
        "    d.append(x)\n",
        "arr = [4, 3, 2, 1]\n",
        "for x in arr:\n",
        "    d.appendleft(x)\n",
        "d.show()\n",
        "\n",
        "print()\n",
        "while d.size != 0:\n",
        "    print(d.popleft())\n",
        "\n",
        "arr = [1, 2, 3, 4, 5, 6, 7, 8]\n",
        "for x in arr:\n",
        "    d.appendleft(x)\n",
        "d.show()\n",
        "\n",
        "print()\n",
        "while True:\n",
        "    print(d.pop())\n",
        "    if d.size == 0:\n",
        "        break\n",
        "    print(d.popleft())\n",
        "    if d.size == 0:\n",
        "        break"
      ],
      "metadata": {
        "colab": {
          "base_uri": "https://localhost:8080/"
        },
        "id": "70_qqgqAeZ68",
        "outputId": "2e873aeb-dc06-47f3-a7f4-f66efdcd7367"
      },
      "execution_count": 12,
      "outputs": [
        {
          "output_type": "stream",
          "name": "stdout",
          "text": [
            "1 2 3 4 5 6 7 8 \n",
            "1\n",
            "2\n",
            "3\n",
            "4\n",
            "5\n",
            "6\n",
            "7\n",
            "8\n",
            "8 7 6 5 4 3 2 1 \n",
            "1\n",
            "8\n",
            "2\n",
            "7\n",
            "3\n",
            "6\n",
            "4\n",
            "5\n"
          ]
        }
      ]
    },
    {
      "cell_type": "markdown",
      "source": [
        "#### <b>이진 탐색 트리(Binary Search Tree)</b>"
      ],
      "metadata": {
        "id": "w4Z7dAklDfPe"
      }
    },
    {
      "cell_type": "code",
      "source": [
        "from collections import deque\n",
        "\n",
        "\n",
        "class Node:\n",
        "    def __init__(self, key):\n",
        "        self.key = key\n",
        "        self.left = None\n",
        "        self.right = None\n",
        "\n",
        "\n",
        "class BinarySearchTree:\n",
        "    def __init__(self):\n",
        "        self.root = None\n",
        "\n",
        "    def search(self, node, key):\n",
        "        return self._search(self.root, key)\n",
        "\n",
        "    def _search(self, node, key):\n",
        "        if node is None or node.key == key:\n",
        "            return node\n",
        "\n",
        "        # 현재 노드의 key보다 작은 경우\n",
        "        if node.key > key:\n",
        "            return self._search(node.left, key)\n",
        "        # 현재 노드의 key보다 큰 경우\n",
        "        elif node.key < key:\n",
        "            return self._search(node.right, key)\n",
        "\n",
        "    def insert(self, key):\n",
        "        self.root = self._insert(self.root, key)\n",
        "\n",
        "    def _insert(self, node, key):\n",
        "        if node is None:\n",
        "            return Node(key)\n",
        "\n",
        "        # 현재 노드의 key보다 작은 경우\n",
        "        if node.key > key:\n",
        "            node.left = self._insert(node.left, key)\n",
        "        # 현재 노드의 key보다 큰 경우\n",
        "        elif node.key < key:\n",
        "            node.right = self._insert(node.right, key)\n",
        "\n",
        "        return node\n",
        "\n",
        "    def delete(self, key):\n",
        "        self.root = self._delete(self.root, key)\n",
        "\n",
        "    def _delete(self, node, key):\n",
        "        if node is None:\n",
        "            return None\n",
        "\n",
        "        # 현재 노드의 key보다 작은 경우\n",
        "        if node.key > key:\n",
        "            node.left = self._delete(node.left, key)\n",
        "        # 현재 노드의 key보다 큰 경우\n",
        "        elif node.key < key:\n",
        "            node.right = self._delete(node.right, key)\n",
        "        # 삭제할 노드를 찾은 경우\n",
        "        else:\n",
        "            # 왼쪽 자식이 없는 경우\n",
        "            if node.left is None:\n",
        "                return node.right\n",
        "            # 오른쪽 자식이 없는 경우\n",
        "            elif node.right is None:\n",
        "                return node.left\n",
        "            # 왼쪽과 오른쪽 자식 모두 있는 경우\n",
        "            node.key = self._get_min(node.right)\n",
        "            node.right = self._delete(node.right, node.key)\n",
        "\n",
        "        return node\n",
        "\n",
        "    def _get_min(self, node):\n",
        "        key = node.key\n",
        "        while node.left:\n",
        "            key = node.left.key\n",
        "            node = node.left\n",
        "        return key\n",
        "\n",
        "    def preorder(self):\n",
        "        self._preorder(self.root)\n",
        "\n",
        "    def _preorder(self, node):\n",
        "        if node:\n",
        "            print(node.key, end=' ')\n",
        "            self._preorder(node.left)\n",
        "            self._preorder(node.right)\n",
        "\n",
        "    def inorder(self):\n",
        "        self._inorder(self.root)\n",
        "\n",
        "    def _inorder(self, node):\n",
        "        if node:\n",
        "            self._inorder(node.left)\n",
        "            print(node.key, end=' ')\n",
        "            self._inorder(node.right)\n",
        "\n",
        "    def postorder(self):\n",
        "        self._postorder(self.root)\n",
        "\n",
        "    def _postorder(self, node):\n",
        "        if node:\n",
        "            self._postorder(node.left)\n",
        "            self._postorder(node.right)\n",
        "            print(node.key, end=' ')\n",
        "\n",
        "    def levelorder(self):\n",
        "        return self._levelorder(self.root)\n",
        "\n",
        "    def _levelorder(self, node):\n",
        "        if node is None:\n",
        "            return\n",
        "\n",
        "        result = []\n",
        "\n",
        "        queue = deque()\n",
        "        queue.append((0, node))  # (level, node)\n",
        "\n",
        "        while queue:\n",
        "            level, node = queue.popleft()\n",
        "            if node:\n",
        "                result.append((level, node.key))\n",
        "                queue.append((level + 1, node.left))\n",
        "                queue.append((level + 1, node.right))\n",
        "\n",
        "        for level, key in result:\n",
        "            print(f\"level: {level}, key: {key}\")\n",
        "\n",
        "    def to_list(self):\n",
        "        return self._to_list(self.root)\n",
        "\n",
        "    def _to_list(self, node):\n",
        "        if node is None:\n",
        "            return []\n",
        "        return self._to_list(node.left) + [node.key] + self._to_list(\n",
        "            node.right)\n",
        "\n",
        "\n",
        "arr = [7, 4, 5, 9, 6, 3, 2, 8]\n",
        "bst = BinarySearchTree()\n",
        "for x in arr:\n",
        "    bst.insert(x)\n",
        "print('전위 순회:', end=' ')\n",
        "bst.preorder()\n",
        "print('\\n중위 순회:', end=' ')\n",
        "bst.inorder()\n",
        "print('\\n후위 순회:', end=' ')\n",
        "bst.postorder()\n",
        "print('\\n[레벨 순회]')\n",
        "bst.levelorder()\n",
        "\n",
        "bst.delete(7)\n",
        "print('\\n전위 순회:', end=' ')\n",
        "bst.preorder()\n",
        "print('\\n중위 순회:', end=' ')\n",
        "bst.inorder()\n",
        "print('\\n후위 순회:', end=' ')\n",
        "bst.postorder()\n",
        "print('\\n[레벨 순회]')\n",
        "bst.levelorder()\n",
        "\n",
        "bst.delete(4)\n",
        "print('\\n전위 순회:', end=' ')\n",
        "bst.preorder()\n",
        "print('\\n중위 순회:', end=' ')\n",
        "bst.inorder()\n",
        "print('\\n후위 순회:', end=' ')\n",
        "bst.postorder()\n",
        "print('\\n[레벨 순회]')\n",
        "bst.levelorder()\n",
        "\n",
        "bst.delete(3)\n",
        "print('\\n전위 순회:', end=' ')\n",
        "bst.preorder()\n",
        "print('\\n중위 순회:', end=' ')\n",
        "bst.inorder()\n",
        "print('\\n후위 순회:', end=' ')\n",
        "bst.postorder()\n",
        "print('\\n[레벨 순회]')\n",
        "bst.levelorder()\n",
        "\n",
        "print(bst.to_list())"
      ],
      "metadata": {
        "colab": {
          "base_uri": "https://localhost:8080/"
        },
        "id": "lVN254Q4DeaZ",
        "outputId": "8b00c3a3-e247-4e95-b058-cd550cb0e60a"
      },
      "execution_count": 13,
      "outputs": [
        {
          "output_type": "stream",
          "name": "stdout",
          "text": [
            "전위 순회: 7 4 3 2 5 6 9 8 \n",
            "중위 순회: 2 3 4 5 6 7 8 9 \n",
            "후위 순회: 2 3 6 5 4 8 9 7 \n",
            "[레벨 순회]\n",
            "level: 0, key: 7\n",
            "level: 1, key: 4\n",
            "level: 1, key: 9\n",
            "level: 2, key: 3\n",
            "level: 2, key: 5\n",
            "level: 2, key: 8\n",
            "level: 3, key: 2\n",
            "level: 3, key: 6\n",
            "\n",
            "전위 순회: 8 4 3 2 5 6 9 \n",
            "중위 순회: 2 3 4 5 6 8 9 \n",
            "후위 순회: 2 3 6 5 4 9 8 \n",
            "[레벨 순회]\n",
            "level: 0, key: 8\n",
            "level: 1, key: 4\n",
            "level: 1, key: 9\n",
            "level: 2, key: 3\n",
            "level: 2, key: 5\n",
            "level: 3, key: 2\n",
            "level: 3, key: 6\n",
            "\n",
            "전위 순회: 8 5 3 2 6 9 \n",
            "중위 순회: 2 3 5 6 8 9 \n",
            "후위 순회: 2 3 6 5 9 8 \n",
            "[레벨 순회]\n",
            "level: 0, key: 8\n",
            "level: 1, key: 5\n",
            "level: 1, key: 9\n",
            "level: 2, key: 3\n",
            "level: 2, key: 6\n",
            "level: 3, key: 2\n",
            "\n",
            "전위 순회: 8 5 2 6 9 \n",
            "중위 순회: 2 5 6 8 9 \n",
            "후위 순회: 2 6 5 9 8 \n",
            "[레벨 순회]\n",
            "level: 0, key: 8\n",
            "level: 1, key: 5\n",
            "level: 1, key: 9\n",
            "level: 2, key: 2\n",
            "level: 2, key: 6\n",
            "[2, 5, 6, 8, 9]\n"
          ]
        }
      ]
    },
    {
      "cell_type": "markdown",
      "source": [
        "#### <b>힙(Heap)</b>\n",
        "\n",
        "* <b>우선순위 큐(priority queue)</b> 구현 목적으로 사용된다."
      ],
      "metadata": {
        "id": "eDNeslbO5pZj"
      }
    },
    {
      "cell_type": "code",
      "execution_count": 14,
      "metadata": {
        "id": "BXMsEnBs5lmO"
      },
      "outputs": [],
      "source": [
        "class Heap(object):\n",
        "    def __init__(self):\n",
        "        # 첫번째 원소는 사용하지 않음\n",
        "        self.arr = [None]\n",
        "\n",
        "    # 원소 삽입(push)\n",
        "    def push(self, x):\n",
        "        # 마지막 위치에 원소를 삽입\n",
        "        self.arr.append(x)\n",
        "        # 첫 원소인 경우 종료\n",
        "        if len(self.arr) == 2:\n",
        "            return\n",
        "        # 값의 크기를 비교하며 부모를 타고 올라감\n",
        "        i = len(self.arr) - 1\n",
        "        while True:\n",
        "            parent = i // 2\n",
        "            # 작은 값을 부모 쪽으로 계속 이동\n",
        "            if 1 <= parent and self.arr[parent] > self.arr[i]:\n",
        "                self.arr[parent], self.arr[i] = self.arr[i], self.arr[parent]\n",
        "                i = parent\n",
        "            else:\n",
        "                break\n",
        "\n",
        "    # 원소 추출(pop)\n",
        "    def pop(self):\n",
        "        # 마지막 원소\n",
        "        i = len(self.arr) - 1\n",
        "        # 남은 원소가 없다면 종료\n",
        "        if i < 1:\n",
        "            return None\n",
        "        # 루트 원소와 마지막 원소를 교체하여, 마지막 원소 추출\n",
        "        self.arr[1], self.arr[i] = self.arr[i], self.arr[1]\n",
        "        result = self.arr.pop()\n",
        "        # 루트(root)에서부터 원소 정렬\n",
        "        self.heapify()\n",
        "        return result\n",
        "\n",
        "    # 루트(root)에서부터 자식 방향으로 내려가며 재정렬\n",
        "    def heapify(self):\n",
        "        # 남은 원소가 1개 이하라면 종료\n",
        "        if len(self.arr) <= 2:\n",
        "            return\n",
        "        # 루트 원소\n",
        "        i = 1\n",
        "        while True:\n",
        "            # 왼쪽 자식\n",
        "            child = 2 * i\n",
        "            # 왼쪽 자식과 오른쪽 자식 중 더 작은 것을 선택\n",
        "            if child + 1 < len(self.arr):\n",
        "                if self.arr[child] > self.arr[child + 1]:\n",
        "                    child += 1\n",
        "            # 더 이상 자식이 없거나, 적절한 위치를 찾은 경우\n",
        "            if child >= len(self.arr) or self.arr[child] > self.arr[i]:\n",
        "                break\n",
        "            # 원소를 교체하며, 자식 방향으로 내려가기\n",
        "            self.arr[i], self.arr[child] = self.arr[child], self.arr[i]\n",
        "            i = child"
      ]
    },
    {
      "cell_type": "code",
      "source": [
        "arr = [9, 1, 5, 4, 3, 8, 7]\n",
        "heap = Heap()\n",
        "\n",
        "for x in arr:\n",
        "    heap.push(x)\n",
        "\n",
        "while True:\n",
        "    x = heap.pop()\n",
        "    if x == None:\n",
        "        break\n",
        "    print(x, end=\" \")"
      ],
      "metadata": {
        "colab": {
          "base_uri": "https://localhost:8080/"
        },
        "id": "x8YwfPxa5vbD",
        "outputId": "8017f6ce-34a6-4d03-e320-14c5c8256b9c"
      },
      "execution_count": 15,
      "outputs": [
        {
          "output_type": "stream",
          "name": "stdout",
          "text": [
            "1 3 4 5 7 8 9 "
          ]
        }
      ]
    },
    {
      "cell_type": "code",
      "source": [
        "import random\n",
        "import time\n",
        "\n",
        "\n",
        "# N개의 무작위 데이터 생성\n",
        "arr = []\n",
        "n = 100000\n",
        "for _ in range(n):\n",
        "\tarr.append(random.randint(0, 1000000))\n",
        "\n",
        "# 시간 측정 시작\n",
        "start_time = time.time()\n",
        "\n",
        "# 힙에 모든 원소 삽입\n",
        "heap = Heap()\n",
        "for x in arr:\n",
        "\theap.push(x)\n",
        "\n",
        "# 힙에서 모든 원소 추출\n",
        "result = []\n",
        "while True:\n",
        "\tx = heap.pop()\n",
        "\tif x == None:\n",
        "\t\tbreak\n",
        "\tresult.append(x)\n",
        "\n",
        "# 시간 측정 종료\n",
        "print(f\"Elapsed time: {time.time() - start_time} seconds.\")\n",
        "\n",
        "# 오름차순 정렬 여부 확인\n",
        "ascending = True\n",
        "for i in range(n - 1):\n",
        "\tif result[i] > result[i + 1]:\n",
        "\t\tascending = False\n",
        "print(\"Sorted:\", ascending)\n",
        "\n",
        "# 가장 작은 5개 원소와 가장 큰 5개 원소 출력\n",
        "print(result[:5])\n",
        "print(result[-5:])"
      ],
      "metadata": {
        "id": "dMyJl41TElwU",
        "colab": {
          "base_uri": "https://localhost:8080/"
        },
        "outputId": "08e93a78-518d-48c8-d5f9-496eaa039a96"
      },
      "execution_count": 16,
      "outputs": [
        {
          "output_type": "stream",
          "name": "stdout",
          "text": [
            "Elapsed time: 1.1877994537353516 seconds.\n",
            "Sorted: True\n",
            "[3, 10, 10, 48, 51]\n",
            "[999977, 999982, 999989, 999993, 999996]\n"
          ]
        }
      ]
    },
    {
      "cell_type": "code",
      "source": [],
      "metadata": {
        "id": "fPAAC6Q1V-Tm"
      },
      "execution_count": 16,
      "outputs": []
    }
  ]
}