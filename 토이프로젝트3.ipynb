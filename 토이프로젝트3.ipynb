{
 "cells": [
  {
   "cell_type": "code",
   "execution_count": 1,
   "metadata": {},
   "outputs": [
    {
     "name": "stdout",
     "output_type": "stream",
     "text": [
      "Files already downloaded and verified\n",
      "Files already downloaded and verified\n"
     ]
    },
    {
     "name": "stderr",
     "output_type": "stream",
     "text": [
      "c:\\ProgramData\\Anaconda3\\envs\\mjjenv\\lib\\site-packages\\torchvision\\models\\_utils.py:208: UserWarning: The parameter 'pretrained' is deprecated since 0.13 and may be removed in the future, please use 'weights' instead.\n",
      "  warnings.warn(\n",
      "c:\\ProgramData\\Anaconda3\\envs\\mjjenv\\lib\\site-packages\\torchvision\\models\\_utils.py:223: UserWarning: Arguments other than a weight enum or `None` for 'weights' are deprecated since 0.13 and may be removed in the future. The current behavior is equivalent to passing `weights=None`.\n",
      "  warnings.warn(msg)\n"
     ]
    },
    {
     "name": "stdout",
     "output_type": "stream",
     "text": [
      "Epoch [1/15], Loss: 1.9459, Test Accuracy: 0.3385\n",
      "Epoch [2/15], Loss: 1.7692, Test Accuracy: 0.3429\n",
      "Epoch [3/15], Loss: 1.7560, Test Accuracy: 0.3652\n",
      "Epoch [4/15], Loss: 1.6486, Test Accuracy: 0.4373\n",
      "Epoch [5/15], Loss: 1.6147, Test Accuracy: 0.4388\n",
      "Epoch [6/15], Loss: 1.5124, Test Accuracy: 0.5167\n",
      "Epoch [7/15], Loss: 1.4079, Test Accuracy: 0.5465\n",
      "Epoch [8/15], Loss: 1.3826, Test Accuracy: 0.5830\n",
      "Epoch [9/15], Loss: 1.2698, Test Accuracy: 0.6197\n",
      "Epoch [10/15], Loss: 1.2125, Test Accuracy: 0.6316\n",
      "Epoch [11/15], Loss: 1.1069, Test Accuracy: 0.6702\n",
      "Epoch [12/15], Loss: 1.0630, Test Accuracy: 0.6782\n",
      "Epoch [13/15], Loss: 1.0265, Test Accuracy: 0.6796\n",
      "Epoch [14/15], Loss: 0.9877, Test Accuracy: 0.6877\n",
      "Epoch [15/15], Loss: 0.9571, Test Accuracy: 0.7030\n",
      "모델 학습 완료!\n"
     ]
    }
   ],
   "source": [
    "import torch\n",
    "import torch.nn as nn\n",
    "import torch.optim as optim\n",
    "import torchvision.transforms as transforms\n",
    "import torchvision.datasets as datasets\n",
    "import torchvision.models as models\n",
    "from torch.utils.data import DataLoader\n",
    "from torch.optim.lr_scheduler import StepLR\n",
    "\n",
    "# 하이퍼파라미터 설정\n",
    "batch_size = 64\n",
    "learning_rate = 0.001\n",
    "num_epochs = 15\n",
    "\n",
    "# 데이터셋 전처리 및 데이터 증강\n",
    "transform = transforms.Compose([\n",
    "    transforms.RandomHorizontalFlip(),\n",
    "    transforms.RandomRotation(10),      # 랜덤 회전 추가\n",
    "    transforms.RandomCrop(32, padding=4),\n",
    "    transforms.ToTensor(),\n",
    "    transforms.Normalize((0.4914, 0.4822, 0.4465), (0.2023, 0.1994, 0.2010))\n",
    "])\n",
    "\n",
    "# CIFAR-10 데이터셋 로드\n",
    "train_dataset = datasets.CIFAR10(root='./data', train=True, download=True, transform=transform)\n",
    "test_dataset = datasets.CIFAR10(root='./data', train=False, download=True, transform=transform)\n",
    "train_loader = DataLoader(train_dataset, batch_size=batch_size, shuffle=True)\n",
    "test_loader = DataLoader(test_dataset, batch_size=batch_size, shuffle=False)\n",
    "\n",
    "# 모델 정의 (ResNet-50 사용)\n",
    "model = models.resnet50(pretrained=False)\n",
    "model.fc = nn.Sequential(\n",
    "    nn.Linear(model.fc.in_features, 256), # 레이어 추가\n",
    "    nn.ReLU(),\n",
    "    nn.Dropout(0.5),                     # 드롭아웃 추가\n",
    "    nn.Linear(256, 10)\n",
    ")\n",
    "\n",
    "# GPU 사용 가능하면 설정\n",
    "device = torch.device(\"cuda\" if torch.cuda.is_available() else \"cpu\")\n",
    "model = model.to(device)\n",
    "\n",
    "# 손실 함수, 옵티마이저, 학습률 스케줄러 설정\n",
    "criterion = nn.CrossEntropyLoss()\n",
    "optimizer = optim.Adam(model.parameters(), lr=learning_rate)\n",
    "scheduler = StepLR(optimizer, step_size=5, gamma=0.5)  # 학습률을 에포크마다 절반으로 감소\n",
    "\n",
    "# 학습 함수\n",
    "def train(model, train_loader, criterion, optimizer):\n",
    "    model.train()\n",
    "    running_loss = 0.0\n",
    "    for images, labels in train_loader:\n",
    "        images, labels = images.to(device), labels.to(device)\n",
    "\n",
    "        # 순전파\n",
    "        outputs = model(images)\n",
    "        loss = criterion(outputs, labels)\n",
    "\n",
    "        # 역전파 및 옵티마이저 업데이트\n",
    "        optimizer.zero_grad()\n",
    "        loss.backward()\n",
    "        optimizer.step()\n",
    "\n",
    "        running_loss += loss.item()\n",
    "    return running_loss / len(train_loader)\n",
    "\n",
    "# 테스트 함수\n",
    "def test(model, test_loader, criterion):\n",
    "    model.eval()\n",
    "    correct = 0\n",
    "    total = 0\n",
    "    with torch.no_grad():\n",
    "        for images, labels in test_loader:\n",
    "            images, labels = images.to(device), labels.to(device)\n",
    "\n",
    "            # 예측 및 정확도 계산\n",
    "            outputs = model(images)\n",
    "            _, predicted = torch.max(outputs.data, 1)\n",
    "            total += labels.size(0)\n",
    "            correct += (predicted == labels).sum().item()\n",
    "    return correct / total\n",
    "\n",
    "# 모델 학습 및 테스트\n",
    "for epoch in range(num_epochs):\n",
    "    train_loss = train(model, train_loader, criterion, optimizer)\n",
    "    test_accuracy = test(model, test_loader, criterion)\n",
    "    print(f\"Epoch [{epoch+1}/{num_epochs}], Loss: {train_loss:.4f}, Test Accuracy: {test_accuracy:.4f}\")\n",
    "    scheduler.step()  # 학습률 업데이트\n",
    "\n",
    "print(\"모델 학습 완료!\")"
   ]
  },
  {
   "cell_type": "code",
   "execution_count": null,
   "metadata": {},
   "outputs": [],
   "source": []
  }
 ],
 "metadata": {
  "kernelspec": {
   "display_name": "mjjenv",
   "language": "python",
   "name": "python3"
  },
  "language_info": {
   "codemirror_mode": {
    "name": "ipython",
    "version": 3
   },
   "file_extension": ".py",
   "mimetype": "text/x-python",
   "name": "python",
   "nbconvert_exporter": "python",
   "pygments_lexer": "ipython3",
   "version": "3.10.6"
  },
  "vscode": {
   "interpreter": {
    "hash": "94869f568b959b665414287b7e71fc2e2483d76b817f8a1b19ffae13ace580cb"
   }
  }
 },
 "nbformat": 4,
 "nbformat_minor": 2
}
