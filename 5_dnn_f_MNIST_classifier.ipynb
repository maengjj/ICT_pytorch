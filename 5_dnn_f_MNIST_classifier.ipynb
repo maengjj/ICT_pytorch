{
  "nbformat": 4,
  "nbformat_minor": 0,
  "metadata": {
    "colab": {
      "private_outputs": true,
      "provenance": []
    },
    "kernelspec": {
      "name": "python3",
      "display_name": "Python 3"
    },
    "language_info": {
      "name": "python"
    },
    "accelerator": "GPU",
    "gpuClass": "standard"
  },
  "cells": [
    {
      "cell_type": "markdown",
      "source": [
        "# 인공신경망 활용하기\n"
      ],
      "metadata": {
        "id": "dN3ZQlftiUvA"
      }
    },
    {
      "cell_type": "markdown",
      "source": [
        "\n",
        "## 실습 목표\n",
        "-----\n",
        "- torchvision 데이터 셋을 사용하여 이미지 분류기를 생성한다.\n",
        "- 생성한 모델을 저장하고, 저장된 모델을 다시 불러와서 사용한다.\n",
        "\n"
      ],
      "metadata": {
        "id": "4o8cDkAF89bc"
      }
    },
    {
      "cell_type": "markdown",
      "source": [
        "\n",
        "## 문제 정의\n",
        "-----\n",
        "- pytorch를 사용하여 기본적인 인공신경망을 생성하여 이미지 분류기를 생성합니다.\n",
        "- 데이터셋: [Fashion MNIST](https://pytorch.org/vision/0.9/datasets.html#fashion-mnist)\n",
        "\n",
        "- **reference**\n",
        "    - https://tutorials.pytorch.kr/beginner/basics/buildmodel_tutorial.html\n",
        "    - https://tutorials.pytorch.kr/beginner/basics/data_tutorial.html"
      ],
      "metadata": {
        "id": "UZfgLyXW88Nh"
      }
    },
    {
      "cell_type": "markdown",
      "source": [
        "## 주요 개념 리뷰\n",
        "----\n",
        "\n",
        "### 1. TensorDataset과 DataLoader\n",
        "\n",
        "- 입력 데이터를 쉽게 처리하고, 배치 단위로 잘러서 학습할 수 있게 도와주는 모듈\n",
        "- **Dataset** : 학습시 사용하는 feature와 target의 pair로 이루어짐 \n",
        "\n",
        "- **DataLoader**: 학습 시 각 인스턴스에 쉽게 접근할 수 있도록 순회 가능한 객체(iterable)를 생성\n",
        "\n",
        "- **DataLoader가 하는 역할**\n",
        "    - shuffling\n",
        "    - batch ...\n",
        "\n",
        "### 2. Device 설정\n",
        "- 일반적으로 인공신경망의 학습은 (가능하다면) GPU를 사용하는 것이 바람직함\n",
        "- GPU를 사용하여 학습을 진행하도록 명시적으로 작성 필요\n",
        "- 연산 유형에 따라 GPU에서 수행이 불가능한 경우도 존재하는데, 그럴 경우도 마찬가지로 명시적으로 어떤 프로세서에서 연산을 수행해야하는지 코드로 작성해야함\n",
        "\n",
        "\n",
        "### 3. 신경망 생성\n",
        "\n",
        "- **torch.nn 패키지**는 신경망 생성 및 학습 시 설정해야하는 다양한 기능을 제공\n",
        "- 신경망을 **nn.Module**을 상속받아 정의\n",
        "    - __ __init__ __(): 신경망에서 사용할 layer를 초기화하는 부분\n",
        "    - __forward()__: feed foward 연산 수행 시, 각 layer의 입출력이 어떻게 연결되는지를 지정\n",
        "\n",
        "\n",
        "### 4. Model compile\n",
        "\n",
        "- 학습 시 필요한 정보들(loss function, optimizer)을 선언\n",
        "- 일반적으로 loss와 optimizer는 아래와 같이 변수로 선언하고, 변수를 train/test 시 참고할 수 있도록 매개변수로 지정해줌 \n",
        "\n",
        "\n",
        "### 5. Train\n",
        "- **신경망의 학습과정**을 별도의 함수로 구성하는 것이 일반적\n",
        "    - feed forward -> loss -> error back propagation -> (log) -> (반복)\n",
        "\n",
        "### 6. Test\n",
        "\n",
        "- 학습과정과 비슷하나 error back propagate하는 부분이 없음\n",
        "    - feed forward -> loss ->  (log) -> (반복)\n",
        "\n",
        "### 7. Iteration\n",
        "- 신경망 학습은 여러 epochs을 반복해서 수행하면서 모델을 구성하는 최적의 파라미터를 찾음\n",
        "- 지정한 epochs 수만큼 **학습**과정과 **평가**과정을 반복하면서, 모델의 성능(loss, accuracy 등)을 체크함"
      ],
      "metadata": {
        "id": "73hIq_459BDy"
      }
    },
    {
      "cell_type": "markdown",
      "source": [
        "## 주요 코드\n",
        "----"
      ],
      "metadata": {
        "id": "F7-UAiRcB9tB"
      }
    },
    {
      "cell_type": "markdown",
      "source": [
        "## Fashion MNIST Classifier\n",
        "----\n",
        "Fashion MNIST 데이터셋을 사용하여 옷의 품목을 구분하는 분류기를 신경망을 사용하여 구현해봅니다."
      ],
      "metadata": {
        "id": "MtFXwWlM-f_a"
      }
    },
    {
      "cell_type": "markdown",
      "source": [
        "### [Step1] Load libraries & Datasets\n",
        "\n",
        "* **[torch.nn](https://pytorch.org/docs/stable/nn.html)** :  신경망을 생성하기 위한 기본 재료들을 제공(Modules, Sequential, Layer, Activations, Loss, Dropout...)\n",
        "* **[torchvision.datasets](https://pytorch.org/vision/0.9/datasets.html#fashion-mnist)** : torchvision.transforms를 사용해 변형이 가능한 형태, feature와 label을 반환\n",
        "* **[torchvision.transforms](https://tutorials.pytorch.kr/beginner/basics/transforms_tutorial.html)**\n",
        "    * ToTensor() : ndarray를 FloatTensor로 변환하고 이미지 픽셀 크기를 [0., 1.]범위로 조정(scale)"
      ],
      "metadata": {
        "id": "d6HMrwnVi_GJ"
      }
    },
    {
      "cell_type": "code",
      "execution_count": null,
      "metadata": {
        "id": "UdsAY_OFiAwA"
      },
      "outputs": [],
      "source": [
        "import numpy as np\n",
        "import matplotlib.pyplot as plt\n",
        "\n",
        "import torch\n",
        "from torch.utils.data import DataLoader\n",
        "from torch import nn\n",
        "\n",
        "from torchvision import datasets\n",
        "from torchvision.transforms import ToTensor"
      ]
    },
    {
      "cell_type": "code",
      "source": [
        "# FashionMNIST 데이터 불러오기\n",
        "training_data = datasets.FashionMNIST(\n",
        "    root = 'data',\n",
        "    train = True,\n",
        "    download = True,\n",
        "    transform = ToTensor(),\n",
        ")\n",
        "\n",
        "test_data = datasets.FashionMNIST(\n",
        "    root = 'data',\n",
        "    train = False,\n",
        "    download = True,\n",
        "    transform = ToTensor(),\n",
        ")"
      ],
      "metadata": {
        "id": "izKdPzZu7zvd"
      },
      "execution_count": null,
      "outputs": []
    },
    {
      "cell_type": "markdown",
      "source": [
        "### [Step2] Create DataLoader"
      ],
      "metadata": {
        "id": "plROYXHy95Xx"
      }
    },
    {
      "cell_type": "code",
      "source": [
        "train_dataloader = DataLoader(training_data, batch_size = 64, shuffle = True)\n",
        "test_dataloader = DataLoader(test_data, batch_size = 64, shuffle = False)"
      ],
      "metadata": {
        "id": "7Vg9INIm94Nt"
      },
      "execution_count": null,
      "outputs": []
    },
    {
      "cell_type": "code",
      "source": [
        "# Device 설정\n",
        "device = 'cuda' if torch.cuda.is_available() else 'cpu'\n",
        "print(f'device = {device}')"
      ],
      "metadata": {
        "id": "pDqQL8xBdXfc"
      },
      "execution_count": null,
      "outputs": []
    },
    {
      "cell_type": "markdown",
      "source": [
        "#### EDA"
      ],
      "metadata": {
        "id": "4D9i0DX3iSlx"
      }
    },
    {
      "cell_type": "code",
      "source": [
        "print(training_data, '\\n------------------\\n', test_data)"
      ],
      "metadata": {
        "id": "LPFgyjYn-wgO"
      },
      "execution_count": null,
      "outputs": []
    },
    {
      "cell_type": "code",
      "source": [
        "training_data[0]"
      ],
      "metadata": {
        "id": "NoVlIHiZmmLU"
      },
      "execution_count": null,
      "outputs": []
    },
    {
      "cell_type": "code",
      "source": [
        "train_features, train_labels = next(iter(train_dataloader))\n",
        "print(f\"Feature batch shape: {train_features.size()}\")\n",
        "print(f\"Labels batch shape: {train_labels.size()}\")"
      ],
      "metadata": {
        "id": "EcwGOt2eDXtZ"
      },
      "execution_count": null,
      "outputs": []
    },
    {
      "cell_type": "code",
      "source": [
        "img, label = training_data[0]\n",
        "plt.imshow(img.squeeze(), cmap='gray')\n",
        "print(f'label={label}')"
      ],
      "metadata": {
        "id": "wYEmeSej_kaV"
      },
      "execution_count": null,
      "outputs": []
    },
    {
      "cell_type": "code",
      "source": [
        "labels_map = {\n",
        "    0: \"T-Shirt\",\n",
        "    1: \"Trouser\",\n",
        "    2: \"Pullover\",\n",
        "    3: \"Dress\",\n",
        "    4: \"Coat\",\n",
        "    5: \"Sandal\",\n",
        "    6: \"Shirt\",\n",
        "    7: \"Sneaker\",\n",
        "    8: \"Bag\",\n",
        "    9: \"Ankle Boot\",\n",
        "}"
      ],
      "metadata": {
        "id": "-nHIax8LjHTt"
      },
      "execution_count": null,
      "outputs": []
    },
    {
      "cell_type": "code",
      "source": [
        "figure = plt.figure(figsize = (20, 8))\n",
        "cols, rows = 5, 2\n",
        "\n",
        "for i in range(1, cols * rows +1):\n",
        "    sample_idx = torch.randint(len(training_data), size=(1,)).item()\n",
        "    img, label = training_data[sample_idx]\n",
        "    figure.add_subplot(rows, cols, i)\n",
        "    plt.title(labels_map[label])\n",
        "    print(labels_map[label])\n",
        "    plt.axis('off')\n",
        "    plt.imshow(img.squeeze(), cmap='gray')\n",
        "plt.show()"
      ],
      "metadata": {
        "id": "RfTEDUTHjILY"
      },
      "execution_count": null,
      "outputs": []
    },
    {
      "cell_type": "markdown",
      "source": [
        "### [Step3] Set Network Structure"
      ],
      "metadata": {
        "id": "tpRGRkTXjJB0"
      }
    },
    {
      "cell_type": "code",
      "source": [
        "class NeuralNetwork(nn.Module):\n",
        "    def __init__(self):\n",
        "        super(NeuralNetwork, self).__init__()\n",
        "        self.flatten = nn.Flatten()\n",
        "        self.classifier = nn.Sequential(\n",
        "            nn.Linear(28*28, 128),\n",
        "            nn.ReLU(),\n",
        "            nn.Dropout(0.2),\n",
        "            nn.Linear(128, 10),\n",
        "        )\n",
        "\n",
        "    def forward(self, x):\n",
        "        x = self.flatten(x)\n",
        "        output = self.classifier(x)\n",
        "        return output"
      ],
      "metadata": {
        "id": "BJ9iQln4FEhF"
      },
      "execution_count": null,
      "outputs": []
    },
    {
      "cell_type": "markdown",
      "source": [
        "### [Step4] Create Model instance"
      ],
      "metadata": {
        "id": "svcCPRGxF5ls"
      }
    },
    {
      "cell_type": "code",
      "source": [
        "model = NeuralNetwork().to(device)\n",
        "print(model)"
      ],
      "metadata": {
        "id": "FDgZ56RzGAN3"
      },
      "execution_count": null,
      "outputs": []
    },
    {
      "cell_type": "markdown",
      "source": [
        "#### Model 테스트"
      ],
      "metadata": {
        "id": "gm6l19FXGMnO"
      }
    },
    {
      "cell_type": "code",
      "source": [
        "X = torch.rand(1, 28, 28, device = device)\n",
        "output = model(X)\n",
        "print(f'모델 출력 결과: {output}\\n')\n",
        "pred_probab = nn.Softmax(dim=1)(output)\n",
        "print(f'Softmax 결과: {pred_probab}\\n')\n",
        "y_pred = pred_probab.argmax()\n",
        "print(y_pred)"
      ],
      "metadata": {
        "id": "8h8h5hlVGPIl"
      },
      "execution_count": null,
      "outputs": []
    },
    {
      "cell_type": "markdown",
      "source": [
        "### [Step5] Model compile"
      ],
      "metadata": {
        "id": "gPwh-CXVGtBp"
      }
    },
    {
      "cell_type": "code",
      "source": [
        "# Loss\n",
        "loss = nn.CrossEntropyLoss()\n",
        "# Optimizer\n",
        "learning_rate = 1e-3  #0.001\n",
        "optimizer = torch.optim.Adam(model.parameters(), lr = learning_rate)"
      ],
      "metadata": {
        "id": "RwM8c2TdGseO"
      },
      "execution_count": null,
      "outputs": []
    },
    {
      "cell_type": "markdown",
      "source": [
        "### [Step6] Set train loop"
      ],
      "metadata": {
        "id": "mz2OUt7nHAcn"
      }
    },
    {
      "cell_type": "code",
      "source": [
        "def train_loop(train_loader, model, loss_fn, optimizer):\n",
        "    size = len(train_loader.dataset)\n",
        "\n",
        "    for batch, (X, y) in enumerate(train_loader):\n",
        "        X, y = X.to(device), y.to(device)\n",
        "        pred = model(X)\n",
        "\n",
        "        # 손실 계산\n",
        "        loss = loss_fn(pred, y)\n",
        "\n",
        "        # 역전파\n",
        "        optimizer.zero_grad()\n",
        "        loss.backward()\n",
        "        optimizer.step()\n",
        "\n",
        "        if batch % 100 == 0:\n",
        "            loss, current = loss.item(), batch * len(X)\n",
        "            print(f'loss: {loss:>7f}  [{current:>5d}]/{size:5d}')"
      ],
      "metadata": {
        "id": "ikRtBCZAG_iP"
      },
      "execution_count": null,
      "outputs": []
    },
    {
      "cell_type": "markdown",
      "source": [
        "### [Step7] Set test loop"
      ],
      "metadata": {
        "id": "AYsz8VDYH-hq"
      }
    },
    {
      "cell_type": "code",
      "source": [
        "def test_loop(test_loader, model, loss_fn):\n",
        "    size = len(test_loader.dataset)\n",
        "    num_batches = len(test_loader)\n",
        "    test_loss, correct = 0, 0\n",
        "\n",
        "    with torch.no_grad():\n",
        "        for X, y in test_loader:\n",
        "            X, y = X.to(device), y.to(device)\n",
        "            pred = model(X)\n",
        "            test_loss += loss_fn(pred, y).item()\n",
        "            correct += (pred.argmax(1) == y).type(torch.float).sum().item()\n",
        "\n",
        "    test_loss /= num_batches\n",
        "    correct /= size\n",
        "    print(f\"Test Error: \\n Accuracy: {(100*correct):>0.1f}%, Avg loss: {test_loss:8f}\\n\")"
      ],
      "metadata": {
        "id": "Sn1ny3mCH92_"
      },
      "execution_count": null,
      "outputs": []
    },
    {
      "cell_type": "markdown",
      "source": [
        "### [Step8] Run model"
      ],
      "metadata": {
        "id": "7ecAzx8DI_ri"
      }
    },
    {
      "cell_type": "code",
      "source": [
        "epochs = 10\n",
        "\n",
        "for i in range(epochs) :\n",
        "    print(f\"Epoch {i+1} \\n------------------------\")\n",
        "    train_loop(train_dataloader, model, loss, optimizer)\n",
        "    test_loop(test_dataloader, model, loss)\n",
        "print(\"Done!\")"
      ],
      "metadata": {
        "id": "2OtZ9fhmJBeP"
      },
      "execution_count": null,
      "outputs": []
    },
    {
      "cell_type": "markdown",
      "source": [
        "### [Step9] Save & load model"
      ],
      "metadata": {
        "id": "MpNO70oMKMpS"
      }
    },
    {
      "cell_type": "markdown",
      "source": [
        "#### parameter만 저장하고 불러오기"
      ],
      "metadata": {
        "id": "HLVcWemLKUBT"
      }
    },
    {
      "cell_type": "code",
      "source": [
        "torch.save(model.state_dict(), 'model_weights.pth')"
      ],
      "metadata": {
        "id": "fMblMnMHKO7N"
      },
      "execution_count": null,
      "outputs": []
    },
    {
      "cell_type": "code",
      "source": [
        "model2 = NeuralNetwork().to(device)\n",
        "print(model2)"
      ],
      "metadata": {
        "id": "9umiR2NoKb5Q"
      },
      "execution_count": null,
      "outputs": []
    },
    {
      "cell_type": "code",
      "source": [
        "model2.load_state_dict(torch.load('model_weights.pth'))"
      ],
      "metadata": {
        "id": "wJvuPDtHKrAM"
      },
      "execution_count": null,
      "outputs": []
    },
    {
      "cell_type": "code",
      "source": [
        "model2.eval()\n",
        "test_loop(test_dataloader, model2, loss)"
      ],
      "metadata": {
        "id": "1p1OgmBIKyK_"
      },
      "execution_count": null,
      "outputs": []
    },
    {
      "cell_type": "markdown",
      "source": [
        "#### Model 전체를 저장하고 불러오기"
      ],
      "metadata": {
        "id": "3ZiC1dO8K6NM"
      }
    },
    {
      "cell_type": "code",
      "source": [
        "torch.save(model, 'model.pth')"
      ],
      "metadata": {
        "id": "eOhIYMTEKzZU"
      },
      "execution_count": null,
      "outputs": []
    },
    {
      "cell_type": "code",
      "source": [
        "model3 = torch.load('model.pth')"
      ],
      "metadata": {
        "id": "MG_hDRlqK_y5"
      },
      "execution_count": null,
      "outputs": []
    },
    {
      "cell_type": "code",
      "source": [
        "model3.eval()\n",
        "test_loop(test_dataloader, model3, loss)"
      ],
      "metadata": {
        "id": "ZpKXEZTeLCbh"
      },
      "execution_count": null,
      "outputs": []
    }
  ]
}