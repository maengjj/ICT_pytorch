{
 "cells": [
  {
   "cell_type": "markdown",
   "metadata": {
    "id": "x8hXptK65UCh"
   },
   "source": [
    "#### <b>순열과 조합 계산</b>\n",
    "\n",
    "* <b>순열</b>: 서로 다른 𝑛개에서 𝑟개를 중복 없이 뽑아 특정한 순서로 나열하는 것을 의미한다.\n",
    "* <b>조합</b>: 서로 다른 𝑛개에서 𝑟개를 중복 없이 순서를 고려하지 않고 뽑는 것을 의미한다.\n",
    "* <b>중복 순열</b>: 서로 다른 𝑛개에서 중복을 포함해 𝑟개를 뽑아 특정한 순서로 나열하는 것을 의미한다.\n",
    "* <b>중복 조합</b>: 서로 다른 𝑛개에서 중복을 포함해 순서를 고려하지 않고 𝑟개를 뽑는 것을 의미한다."
   ]
  },
  {
   "cell_type": "code",
   "execution_count": 1,
   "metadata": {
    "colab": {
     "base_uri": "https://localhost:8080/"
    },
    "id": "KemmxJ6x5ZwB",
    "outputId": "b5d8f7a5-93b8-4ed3-f524-645005fb9de4"
   },
   "outputs": [
    {
     "name": "stdout",
     "output_type": "stream",
     "text": [
      "[('A', 'B'), ('A', 'C'), ('B', 'A'), ('B', 'C'), ('C', 'A'), ('C', 'B')]\n"
     ]
    }
   ],
   "source": [
    "from itertools import permutations\n",
    "\n",
    "arr = ['A', 'B', 'C']\n",
    "# 원소 중에서 2개를 뽑는 모든 순열 계산\n",
    "result = list(permutations(arr, 2))\n",
    "print(result)"
   ]
  },
  {
   "cell_type": "code",
   "execution_count": 2,
   "metadata": {
    "colab": {
     "base_uri": "https://localhost:8080/"
    },
    "id": "yqCPBk-M5f9H",
    "outputId": "ffc6bb48-52ff-4a30-e098-bca031c34b2e"
   },
   "outputs": [
    {
     "name": "stdout",
     "output_type": "stream",
     "text": [
      "[('A', 'B'), ('A', 'C'), ('B', 'C')]\n"
     ]
    }
   ],
   "source": [
    "from itertools import combinations\n",
    "\n",
    "arr = ['A', 'B', 'C']\n",
    "# 원소 중에서 2개를 뽑는 모든 조합 계산\n",
    "result = list(combinations(arr, 2))\n",
    "print(result)"
   ]
  },
  {
   "cell_type": "code",
   "execution_count": 3,
   "metadata": {
    "colab": {
     "base_uri": "https://localhost:8080/"
    },
    "id": "9F7iipOo5moF",
    "outputId": "af5cdd06-fcba-448c-d226-e9897bff6e36"
   },
   "outputs": [
    {
     "name": "stdout",
     "output_type": "stream",
     "text": [
      "[('A', 'A'), ('A', 'B'), ('A', 'C'), ('B', 'A'), ('B', 'B'), ('B', 'C'), ('C', 'A'), ('C', 'B'), ('C', 'C')]\n"
     ]
    }
   ],
   "source": [
    "from itertools import product\n",
    "\n",
    "arr = ['A', 'B', 'C']\n",
    "# 원소 중에서 2개를 뽑는 모든 중복 순열 계산\n",
    "result = list(product(arr, repeat=2))\n",
    "print(result)"
   ]
  },
  {
   "cell_type": "code",
   "execution_count": 4,
   "metadata": {
    "colab": {
     "base_uri": "https://localhost:8080/"
    },
    "id": "yA7vLA_95pYc",
    "outputId": "c7cdd657-2e48-4669-ce22-69c7d8ab3f0f"
   },
   "outputs": [
    {
     "name": "stdout",
     "output_type": "stream",
     "text": [
      "[('A', 'A'), ('A', 'B'), ('A', 'C'), ('B', 'B'), ('B', 'C'), ('C', 'C')]\n"
     ]
    }
   ],
   "source": [
    "from itertools import combinations_with_replacement\n",
    "\n",
    "arr = ['A', 'B', 'C']\n",
    "# 원소 중에서 2개를 뽑는 모든 중복 조합 계산\n",
    "result = list(combinations_with_replacement(arr, 2))\n",
    "print(result)"
   ]
  },
  {
   "cell_type": "markdown",
   "metadata": {
    "id": "VY8d1SOo_0Zz"
   },
   "source": [
    "#### <b>이항 분포 시뮬레이션</b>\n",
    "\n",
    "* 독립된 사건을 𝑁번 반복 시행했을 때, 특정 사건이 𝑥회 발생할 확률을 계산한다.\n",
    "  * 성공 확률이 𝜇인 베르누이 시행을 𝑁번 반복한다."
   ]
  },
  {
   "cell_type": "code",
   "execution_count": 9,
   "metadata": {},
   "outputs": [
    {
     "name": "stdout",
     "output_type": "stream",
     "text": [
      "^C\n",
      "Note: you may need to restart the kernel to use updated packages.\n"
     ]
    },
    {
     "name": "stdout",
     "output_type": "stream",
     "text": [
      "Collecting numpy\n",
      "  Downloading numpy-1.24.4-cp38-cp38-win_amd64.whl (14.9 MB)\n",
      "Installing collected packages: numpy\n",
      "Successfully installed numpy-1.24.4\n"
     ]
    },
    {
     "name": "stderr",
     "output_type": "stream",
     "text": [
      "WARNING: You are using pip version 21.1.1; however, version 24.3.1 is available.\n",
      "You should consider upgrading via the 'c:\\Users\\mjiju\\AppData\\Local\\Programs\\Python\\Python38\\python.exe -m pip install --upgrade pip' command.\n"
     ]
    }
   ],
   "source": [
    "pip install numpy"
   ]
  },
  {
   "cell_type": "code",
   "execution_count": 11,
   "metadata": {},
   "outputs": [
    {
     "name": "stdout",
     "output_type": "stream",
     "text": [
      "Collecting matplotlibNote: you may need to restart the kernel to use updated packages.\n",
      "\n",
      "  Downloading matplotlib-3.7.5-cp38-cp38-win_amd64.whl (7.5 MB)\n",
      "Collecting importlib-resources>=3.2.0\n",
      "  Downloading importlib_resources-6.4.5-py3-none-any.whl (36 kB)\n",
      "Collecting pyparsing>=2.3.1\n",
      "  Downloading pyparsing-3.1.4-py3-none-any.whl (104 kB)\n",
      "Collecting pillow>=6.2.0\n",
      "  Downloading pillow-10.4.0-cp38-cp38-win_amd64.whl (2.6 MB)\n",
      "Collecting kiwisolver>=1.0.1\n",
      "  Downloading kiwisolver-1.4.7-cp38-cp38-win_amd64.whl (55 kB)\n",
      "Collecting contourpy>=1.0.1\n",
      "  Downloading contourpy-1.1.1-cp38-cp38-win_amd64.whl (477 kB)\n",
      "Requirement already satisfied: packaging>=20.0 in c:\\users\\mjiju\\appdata\\roaming\\python\\python38\\site-packages (from matplotlib) (24.1)\n",
      "Requirement already satisfied: python-dateutil>=2.7 in c:\\users\\mjiju\\appdata\\roaming\\python\\python38\\site-packages (from matplotlib) (2.9.0.post0)\n",
      "Requirement already satisfied: numpy<2,>=1.20 in c:\\users\\mjiju\\appdata\\local\\programs\\python\\python38\\lib\\site-packages (from matplotlib) (1.24.4)\n",
      "Collecting fonttools>=4.22.0\n",
      "  Downloading fonttools-4.54.1-cp38-cp38-win_amd64.whl (1.5 MB)\n",
      "Collecting cycler>=0.10\n",
      "  Downloading cycler-0.12.1-py3-none-any.whl (8.3 kB)\n",
      "Requirement already satisfied: zipp>=3.1.0 in c:\\users\\mjiju\\appdata\\roaming\\python\\python38\\site-packages (from importlib-resources>=3.2.0->matplotlib) (3.20.2)\n",
      "Requirement already satisfied: six>=1.5 in c:\\users\\mjiju\\appdata\\roaming\\python\\python38\\site-packages (from python-dateutil>=2.7->matplotlib) (1.16.0)\n",
      "Installing collected packages: pyparsing, pillow, kiwisolver, importlib-resources, fonttools, cycler, contourpy, matplotlib\n",
      "Successfully installed contourpy-1.1.1 cycler-0.12.1 fonttools-4.54.1 importlib-resources-6.4.5 kiwisolver-1.4.7 matplotlib-3.7.5 pillow-10.4.0 pyparsing-3.1.4\n"
     ]
    },
    {
     "name": "stderr",
     "output_type": "stream",
     "text": [
      "WARNING: You are using pip version 21.1.1; however, version 24.3.1 is available.\n",
      "You should consider upgrading via the 'c:\\Users\\mjiju\\AppData\\Local\\Programs\\Python\\Python38\\python.exe -m pip install --upgrade pip' command.\n"
     ]
    }
   ],
   "source": [
    "pip install matplotlib"
   ]
  },
  {
   "cell_type": "code",
   "execution_count": 12,
   "metadata": {
    "colab": {
     "base_uri": "https://localhost:8080/",
     "height": 266
    },
    "id": "W1HeNa1G_3S5",
    "outputId": "99d0b647-8bae-42b9-8bdd-e4a7ca4798bf"
   },
   "outputs": [
    {
     "data": {
      "image/png": "[encoded data removed]",
      "text/plain": [
       "<Figure size 640x480 with 1 Axes>"
      ]
     },
     "metadata": {},
     "output_type": "display_data"
    }
   ],
   "source": [
    "from math import factorial\n",
    "import numpy as np\n",
    "import matplotlib.pyplot as plt\n",
    "\n",
    "\n",
    "# PDF (Probability Density Function)\n",
    "def pdf(x, n, mu):\n",
    "    combinations = factorial(n) / (factorial(x) * factorial(n - x))\n",
    "    return combinations * (mu ** x) * ((1 - mu) ** (n - x))\n",
    "\n",
    "\n",
    "n = 10\n",
    "mu = 0.1\n",
    "X = [x for x in range(n + 1)]\n",
    "prob = [pdf(x, n, mu) for x in X]\n",
    "plt.bar(X, prob)\n",
    "plt.show()"
   ]
  },
  {
   "cell_type": "markdown",
   "metadata": {
    "id": "El9Igd0xw4MQ"
   },
   "source": [
    "* 가구 공장에서 가구를 만들 때, <b>불량률이 10%</b>라고 한다.\n",
    "* 이 공장에서 만든 가구 10개를 확인했을 때, <b>불량품이 2개 이하로 나올 확률</b>을 구하여라."
   ]
  },
  {
   "cell_type": "code",
   "execution_count": 13,
   "metadata": {
    "colab": {
     "base_uri": "https://localhost:8080/"
    },
    "id": "yl5D-DNNA-3r",
    "outputId": "e0cafb17-1e42-43e1-a36c-6d98ba7fdb94"
   },
   "outputs": [
    {
     "name": "stdout",
     "output_type": "stream",
     "text": [
      "f(0) = 34.87%\n",
      "f(1) = 38.74%\n",
      "f(2) = 19.37%\n",
      "f(3) = 5.74%\n",
      "f(4) = 1.12%\n",
      "f(5) = 0.15%\n",
      "f(6) = 0.01%\n",
      "f(7) = 0.00%\n",
      "f(8) = 0.00%\n",
      "f(9) = 0.00%\n",
      "f(10) = 0.00%\n"
     ]
    }
   ],
   "source": [
    "n = 10\n",
    "mu = 0.1\n",
    "X = [x for x in range(n + 1)]\n",
    "\n",
    "for x in X:\n",
    "    print(f\"f({x}) = {pdf(x, n, mu) * 100.:.2f}%\")"
   ]
  },
  {
   "cell_type": "code",
   "execution_count": 14,
   "metadata": {
    "colab": {
     "base_uri": "https://localhost:8080/"
    },
    "id": "XuveK1wjI_wM",
    "outputId": "c27fba60-6b93-455f-c591-a065d7dcd182"
   },
   "outputs": [
    {
     "name": "stdout",
     "output_type": "stream",
     "text": [
      "가구 10개를 확인했을 때, 불량품이 0개일 확률 = 34.87%\n",
      "가구 10개를 확인했을 때, 불량품이 1개일 확률 = 38.74%\n",
      "가구 10개를 확인했을 때, 불량품이 2개일 확률 = 19.37%\n",
      "가구 10개를 확인했을 때, 불량품이 2개이하일 확률 = 92.98%\n"
     ]
    }
   ],
   "source": [
    "x0 = pdf(0, 10, 0.1)\n",
    "x1 = pdf(1, 10, 0.1)\n",
    "x2 = pdf(2, 10, 0.1)\n",
    "\n",
    "print(f\"가구 10개를 확인했을 때, 불량품이 0개일 확률 = {x0 * 100.:.2f}%\")\n",
    "print(f\"가구 10개를 확인했을 때, 불량품이 1개일 확률 = {x1 * 100.:.2f}%\")\n",
    "print(f\"가구 10개를 확인했을 때, 불량품이 2개일 확률 = {x2 * 100.:.2f}%\")\n",
    "print(f\"가구 10개를 확인했을 때, 불량품이 2개이하일 확률 = {(x0 + x1 + x2) * 100.:.2f}%\")"
   ]
  },
  {
   "cell_type": "markdown",
   "metadata": {
    "id": "9n2CJGpZslBE"
   },
   "source": [
    "#### <b>딥러닝 분야의 입력 정규화(Input Normalization)</b>\n",
    "\n",
    "* 딥러닝 분야에서는 입력 데이터를 정규화하여 학습 속도(training speed)를 개선할 수 있다."
   ]
  },
  {
   "cell_type": "code",
   "execution_count": 15,
   "metadata": {
    "colab": {
     "base_uri": "https://localhost:8080/",
     "height": 265
    },
    "id": "Ec8ZVbLAs4qb",
    "outputId": "8e9204a3-7cb8-418c-db13-9a4f2a0966c3"
   },
   "outputs": [
    {
     "data": {
      "image/png": "[encoded data removed]",
      "text/plain": [
       "<Figure size 640x480 with 1 Axes>"
      ]
     },
     "metadata": {},
     "output_type": "display_data"
    }
   ],
   "source": [
    "import matplotlib.pyplot as plt\n",
    "\n",
    "x1 = np.asarray([33, 72, 40, 104, 52, 56, 89, 24, 52, 73])\n",
    "x2 = np.asarray([9, 8, 7, 10, 5, 8, 7, 9, 8, 7])\n",
    "\n",
    "normalized_x1 = (x1 - np.mean(x1)) / np.std(x1)\n",
    "normalized_x2 = (x2 - np.mean(x2)) / np.std(x2)\n",
    "\n",
    "plt.axvline(x=0, color='gray')\n",
    "plt.axhline(y=0, color='gray')\n",
    "plt.scatter(normalized_x1, normalized_x2, color='black')\n",
    "plt.show()"
   ]
  },
  {
   "cell_type": "markdown",
   "metadata": {
    "id": "7eY50M7NtzMs"
   },
   "source": [
    "#### <b>결합 확률 질량 함수(Joint Probability Mass Function) 예시</b>\n",
    "\n",
    "* 수학 성적($𝑋$)과 영어 성적($𝑌$)에 대한 결합 확률 질량 함수를 나타낼 수 있다."
   ]
  },
  {
   "cell_type": "code",
   "execution_count": 16,
   "metadata": {
    "colab": {
     "base_uri": "https://localhost:8080/"
    },
    "id": "NM2Fd03Jt0rG",
    "outputId": "5d2fe45b-c8bf-4c88-a681-48718129e8eb"
   },
   "outputs": [
    {
     "ename": "ModuleNotFoundError",
     "evalue": "No module named 'pandas'",
     "output_type": "error",
     "traceback": [
      "\u001b[1;31m---------------------------------------------------------------------------\u001b[0m",
      "\u001b[1;31mModuleNotFoundError\u001b[0m                       Traceback (most recent call last)",
      "Cell \u001b[1;32mIn[16], line 1\u001b[0m\n\u001b[1;32m----> 1\u001b[0m \u001b[38;5;28;01mimport\u001b[39;00m \u001b[38;5;21;01mpandas\u001b[39;00m \u001b[38;5;28;01mas\u001b[39;00m \u001b[38;5;21;01mpd\u001b[39;00m\n\u001b[0;32m      4\u001b[0m scores \u001b[38;5;241m=\u001b[39m [\u001b[38;5;241m1\u001b[39m, \u001b[38;5;241m2\u001b[39m, \u001b[38;5;241m3\u001b[39m, \u001b[38;5;241m4\u001b[39m, \u001b[38;5;241m5\u001b[39m]\n\u001b[0;32m      5\u001b[0m data \u001b[38;5;241m=\u001b[39m [\n\u001b[0;32m      6\u001b[0m     [\u001b[38;5;241m2\u001b[39m, \u001b[38;5;241m1\u001b[39m, \u001b[38;5;241m0\u001b[39m, \u001b[38;5;241m0\u001b[39m, \u001b[38;5;241m0\u001b[39m],\n\u001b[0;32m      7\u001b[0m     [\u001b[38;5;241m1\u001b[39m, \u001b[38;5;241m3\u001b[39m, \u001b[38;5;241m4\u001b[39m, \u001b[38;5;241m0\u001b[39m, \u001b[38;5;241m0\u001b[39m],\n\u001b[1;32m   (...)\u001b[0m\n\u001b[0;32m     10\u001b[0m     [\u001b[38;5;241m0\u001b[39m, \u001b[38;5;241m0\u001b[39m, \u001b[38;5;241m0\u001b[39m, \u001b[38;5;241m1\u001b[39m, \u001b[38;5;241m2\u001b[39m]\n\u001b[0;32m     11\u001b[0m ]\n",
      "\u001b[1;31mModuleNotFoundError\u001b[0m: No module named 'pandas'"
     ]
    }
   ],
   "source": [
    "import pandas as pd\n",
    "\n",
    "\n",
    "scores = [1, 2, 3, 4, 5]\n",
    "data = [\n",
    "    [2, 1, 0, 0, 0],\n",
    "    [1, 3, 4, 0, 0],\n",
    "    [1, 3, 5, 2, 0],\n",
    "    [0, 0, 0, 3, 2],\n",
    "    [0, 0, 0, 1, 2]\n",
    "]\n",
    "\n",
    "# 행(index)과 열(columns) 모두 값으로 [1, 2, 3, 4, 5]를 가진다.\n",
    "df = pd.DataFrame(data, index=scores, columns=scores)\n",
    "df.columns.name = \"X\"\n",
    "df.index.name = \"Y\"\n",
    "pmf = df / df.values.sum()\n",
    "print(pmf)"
   ]
  },
  {
   "cell_type": "code",
   "execution_count": 17,
   "metadata": {
    "colab": {
     "base_uri": "https://localhost:8080/",
     "height": 536
    },
    "id": "wsC_D9n6t2sE",
    "outputId": "ca2a448f-31ce-48a1-91ad-7e136ebf4f4b"
   },
   "outputs": [
    {
     "ename": "ModuleNotFoundError",
     "evalue": "No module named 'seaborn'",
     "output_type": "error",
     "traceback": [
      "\u001b[1;31m---------------------------------------------------------------------------\u001b[0m",
      "\u001b[1;31mModuleNotFoundError\u001b[0m                       Traceback (most recent call last)",
      "Cell \u001b[1;32mIn[17], line 2\u001b[0m\n\u001b[0;32m      1\u001b[0m \u001b[38;5;28;01mimport\u001b[39;00m \u001b[38;5;21;01mmatplotlib\u001b[39;00m\u001b[38;5;21;01m.\u001b[39;00m\u001b[38;5;21;01mpyplot\u001b[39;00m \u001b[38;5;28;01mas\u001b[39;00m \u001b[38;5;21;01mplt\u001b[39;00m\n\u001b[1;32m----> 2\u001b[0m \u001b[38;5;28;01mimport\u001b[39;00m \u001b[38;5;21;01mseaborn\u001b[39;00m \u001b[38;5;28;01mas\u001b[39;00m \u001b[38;5;21;01msns\u001b[39;00m\n\u001b[0;32m      5\u001b[0m sns\u001b[38;5;241m.\u001b[39mset(font_scale\u001b[38;5;241m=\u001b[39m\u001b[38;5;241m1.5\u001b[39m) \u001b[38;5;66;03m# 그림(figure)의 기본적인 폰트(font) 크기 설정\u001b[39;00m\n\u001b[0;32m      6\u001b[0m plt\u001b[38;5;241m.\u001b[39mrcParams[\u001b[38;5;124m\"\u001b[39m\u001b[38;5;124mfigure.figsize\u001b[39m\u001b[38;5;124m\"\u001b[39m] \u001b[38;5;241m=\u001b[39m [\u001b[38;5;241m10\u001b[39m, \u001b[38;5;241m8\u001b[39m]\n",
      "\u001b[1;31mModuleNotFoundError\u001b[0m: No module named 'seaborn'"
     ]
    }
   ],
   "source": [
    "import matplotlib.pyplot as plt\n",
    "import seaborn as sns\n",
    "\n",
    "\n",
    "sns.set(font_scale=1.5) # 그림(figure)의 기본적인 폰트(font) 크기 설정\n",
    "plt.rcParams[\"figure.figsize\"] = [10, 8]\n",
    "# 히트맵(heatmap) 그리기\n",
    "ax = sns.heatmap(pmf, annot=True,\n",
    "    xticklabels=[1, 2, 3, 4, 5],\n",
    "    yticklabels=[1, 2, 3, 4, 5]\n",
    ")\n",
    "plt.title(\"Heatmap\", fontsize=20) # 그림(figure)의 제목(title) 설정\n",
    "plt.show() "
   ]
  },
  {
   "cell_type": "markdown",
   "metadata": {
    "id": "XUyCGHjOuEkd"
   },
   "source": [
    "#### <b>주변 확률 질량 함수(Marginal Probability Mass Function) 예시</b>\n",
    "\n",
    "* 수학 성적($𝑋$)과 영어 성적($𝑌$)에 대한 주변 확률 질량 함수를 나타낼 수 있다."
   ]
  },
  {
   "cell_type": "code",
   "execution_count": 18,
   "metadata": {
    "colab": {
     "base_uri": "https://localhost:8080/",
     "height": 771
    },
    "id": "g1aa0amVuE38",
    "outputId": "4f72b1a5-6a32-4eac-e3a1-177c9a370d25"
   },
   "outputs": [
    {
     "ename": "NameError",
     "evalue": "name 'pmf' is not defined",
     "output_type": "error",
     "traceback": [
      "\u001b[1;31m---------------------------------------------------------------------------\u001b[0m",
      "\u001b[1;31mNameError\u001b[0m                                 Traceback (most recent call last)",
      "Cell \u001b[1;32mIn[18], line 3\u001b[0m\n\u001b[0;32m      1\u001b[0m index \u001b[38;5;241m=\u001b[39m \u001b[38;5;241m0\u001b[39m\n\u001b[0;32m      2\u001b[0m x \u001b[38;5;241m=\u001b[39m [\u001b[38;5;241m0\u001b[39m, \u001b[38;5;241m1\u001b[39m, \u001b[38;5;241m2\u001b[39m, \u001b[38;5;241m3\u001b[39m, \u001b[38;5;241m4\u001b[39m]\n\u001b[1;32m----> 3\u001b[0m plt\u001b[38;5;241m.\u001b[39mbar(x, \u001b[43mpmf\u001b[49m\u001b[38;5;241m.\u001b[39miloc[index])\n\u001b[0;32m      4\u001b[0m plt\u001b[38;5;241m.\u001b[39mxticks(x, [\u001b[38;5;124m\"\u001b[39m\u001b[38;5;124m1\u001b[39m\u001b[38;5;124m\"\u001b[39m, \u001b[38;5;124m\"\u001b[39m\u001b[38;5;124m2\u001b[39m\u001b[38;5;124m\"\u001b[39m, \u001b[38;5;124m\"\u001b[39m\u001b[38;5;124m3\u001b[39m\u001b[38;5;124m\"\u001b[39m, \u001b[38;5;124m\"\u001b[39m\u001b[38;5;124m4\u001b[39m\u001b[38;5;124m\"\u001b[39m, \u001b[38;5;124m\"\u001b[39m\u001b[38;5;124m5\u001b[39m\u001b[38;5;124m\"\u001b[39m])\n\u001b[0;32m      5\u001b[0m plt\u001b[38;5;241m.\u001b[39mtitle(\u001b[38;5;124mf\u001b[39m\u001b[38;5;124m\"\u001b[39m\u001b[38;5;124mP(X, Y=\u001b[39m\u001b[38;5;132;01m{\u001b[39;00mindex\u001b[38;5;250m \u001b[39m\u001b[38;5;241m+\u001b[39m\u001b[38;5;250m \u001b[39m\u001b[38;5;241m1\u001b[39m\u001b[38;5;132;01m}\u001b[39;00m\u001b[38;5;124m)\u001b[39m\u001b[38;5;124m\"\u001b[39m)\n",
      "\u001b[1;31mNameError\u001b[0m: name 'pmf' is not defined"
     ]
    }
   ],
   "source": [
    "index = 0\n",
    "x = [0, 1, 2, 3, 4]\n",
    "plt.bar(x, pmf.iloc[index])\n",
    "plt.xticks(x, [\"1\", \"2\", \"3\", \"4\", \"5\"])\n",
    "plt.title(f\"P(X, Y={index + 1})\")\n",
    "plt.show()\n",
    "\n",
    "# 각 열마다 합계 계산\n",
    "marginal_pmf_x = pmf.sum(axis=0)\n",
    "print(marginal_pmf_x)\n",
    "\n",
    "# 각 행마다 합계 계산\n",
    "marginal_pmf_y = pmf.sum(axis=1)\n",
    "print(marginal_pmf_y)"
   ]
  },
  {
   "cell_type": "markdown",
   "metadata": {
    "id": "r0KCSGw7uIm1"
   },
   "source": [
    "#### <b>조건부 확률 질량 함수(Conditional Probability Mass Function) 예시</b>\n",
    "\n",
    "* 수학 성적($𝑋$)과 영어 성적($𝑌$)에 대한 조건부 확률 질량 함수를 나타낼 수 있다."
   ]
  },
  {
   "cell_type": "code",
   "execution_count": 19,
   "metadata": {
    "colab": {
     "base_uri": "https://localhost:8080/",
     "height": 513
    },
    "id": "Ku6qL_gvuG-z",
    "outputId": "79bf3ff9-b585-44aa-be1d-bb67f293865d"
   },
   "outputs": [
    {
     "ename": "NameError",
     "evalue": "name 'pmf' is not defined",
     "output_type": "error",
     "traceback": [
      "\u001b[1;31m---------------------------------------------------------------------------\u001b[0m",
      "\u001b[1;31mNameError\u001b[0m                                 Traceback (most recent call last)",
      "Cell \u001b[1;32mIn[19], line 3\u001b[0m\n\u001b[0;32m      1\u001b[0m index \u001b[38;5;241m=\u001b[39m \u001b[38;5;241m0\u001b[39m\n\u001b[0;32m      2\u001b[0m x \u001b[38;5;241m=\u001b[39m [\u001b[38;5;241m0\u001b[39m, \u001b[38;5;241m1\u001b[39m, \u001b[38;5;241m2\u001b[39m, \u001b[38;5;241m3\u001b[39m, \u001b[38;5;241m4\u001b[39m]\n\u001b[1;32m----> 3\u001b[0m plt\u001b[38;5;241m.\u001b[39mbar(x, \u001b[43mpmf\u001b[49m\u001b[38;5;241m.\u001b[39miloc[index] \u001b[38;5;241m/\u001b[39m marginal_pmf_y[index \u001b[38;5;241m+\u001b[39m \u001b[38;5;241m1\u001b[39m])\n\u001b[0;32m      4\u001b[0m plt\u001b[38;5;241m.\u001b[39mxticks(x, [\u001b[38;5;124m\"\u001b[39m\u001b[38;5;124m1\u001b[39m\u001b[38;5;124m\"\u001b[39m, \u001b[38;5;124m\"\u001b[39m\u001b[38;5;124m2\u001b[39m\u001b[38;5;124m\"\u001b[39m, \u001b[38;5;124m\"\u001b[39m\u001b[38;5;124m3\u001b[39m\u001b[38;5;124m\"\u001b[39m, \u001b[38;5;124m\"\u001b[39m\u001b[38;5;124m4\u001b[39m\u001b[38;5;124m\"\u001b[39m, \u001b[38;5;124m\"\u001b[39m\u001b[38;5;124m5\u001b[39m\u001b[38;5;124m\"\u001b[39m])\n\u001b[0;32m      5\u001b[0m plt\u001b[38;5;241m.\u001b[39mtitle(\u001b[38;5;124mf\u001b[39m\u001b[38;5;124m\"\u001b[39m\u001b[38;5;124mP(X|Y=\u001b[39m\u001b[38;5;132;01m{\u001b[39;00mindex\u001b[38;5;250m \u001b[39m\u001b[38;5;241m+\u001b[39m\u001b[38;5;250m \u001b[39m\u001b[38;5;241m1\u001b[39m\u001b[38;5;132;01m}\u001b[39;00m\u001b[38;5;124m)\u001b[39m\u001b[38;5;124m\"\u001b[39m)\n",
      "\u001b[1;31mNameError\u001b[0m: name 'pmf' is not defined"
     ]
    }
   ],
   "source": [
    "index = 0\n",
    "x = [0, 1, 2, 3, 4]\n",
    "plt.bar(x, pmf.iloc[index] / marginal_pmf_y[index + 1])\n",
    "plt.xticks(x, [\"1\", \"2\", \"3\", \"4\", \"5\"])\n",
    "plt.title(f\"P(X|Y={index + 1})\")\n",
    "plt.show()"
   ]
  },
  {
   "cell_type": "markdown",
   "metadata": {
    "id": "dwGR-2SrusIE"
   },
   "source": [
    "#### <b>평균(Mean), 분산(Variance), 표준 편차(Standard Deviation)</b>\n",
    "\n",
    "* 학생 성적에 대한 평균, 분산, 표준 편차를 계산하는 예시는 다음과 같다."
   ]
  },
  {
   "cell_type": "code",
   "execution_count": 20,
   "metadata": {
    "colab": {
     "base_uri": "https://localhost:8080/"
    },
    "id": "fdzytzehusff",
    "outputId": "e6f59fe2-8769-4901-b08e-0dd271b72406"
   },
   "outputs": [
    {
     "name": "stdout",
     "output_type": "stream",
     "text": [
      "평균: 74.80\n",
      "분산: 192.56\n",
      "표준 편차: 13.88\n"
     ]
    }
   ],
   "source": [
    "import math\n",
    "\n",
    "arr = [56, 93, 88, 72, 65]\n",
    "\n",
    "# 평균(mean) 계산\n",
    "mean = 0\n",
    "for x in arr:\n",
    "    mean += x / len(arr)\n",
    "\n",
    "# 분산(variance) 계산\n",
    "variance = 0\n",
    "for x in arr:\n",
    "    variance += ((x - mean) ** 2) / len(arr)\n",
    "\n",
    "# 표준 편차(standard deviation) 계산\n",
    "std = math.sqrt(variance)\n",
    "\n",
    "print(f\"평균: {mean:.2f}\")\n",
    "print(f\"분산: {variance:.2f}\")\n",
    "print(f\"표준 편차: {std:.2f}\")"
   ]
  },
  {
   "cell_type": "code",
   "execution_count": 21,
   "metadata": {
    "colab": {
     "base_uri": "https://localhost:8080/"
    },
    "id": "miMS2PdRuuwd",
    "outputId": "a707e8ad-7465-410d-ad5a-a4f365482776"
   },
   "outputs": [
    {
     "name": "stdout",
     "output_type": "stream",
     "text": [
      "평균: 74.80\n",
      "분산: 434.96\n",
      "표준 편차: 20.86\n"
     ]
    }
   ],
   "source": [
    "import math\n",
    "\n",
    "arr = [41, 100, 90, 63, 80]\n",
    "\n",
    "# 평균(mean) 계산\n",
    "mean = 0\n",
    "for x in arr:\n",
    "    mean += x / len(arr)\n",
    "\n",
    "# 분산(variance) 계산\n",
    "variance = 0\n",
    "for x in arr:\n",
    "    variance += ((x - mean) ** 2) / len(arr)\n",
    "\n",
    "# 표준 편차(standard deviation) 계산\n",
    "std = math.sqrt(variance)\n",
    "\n",
    "print(f\"평균: {mean:.2f}\")\n",
    "print(f\"분산: {variance:.2f}\")\n",
    "print(f\"표준 편차: {std:.2f}\")"
   ]
  },
  {
   "cell_type": "markdown",
   "metadata": {
    "id": "ZBPh5mOhwzV9"
   },
   "source": [
    "#### <b>공분산(Covariance)과 상관계수(Correlation Coefficient)</b>\n",
    "\n",
    "* <b>공분산</b>도 분산과 마찬가지로 데이터가 평균으로부터 얼마나 멀리 떨어져있는지 나타내기 위해 사용한다.\n",
    "* 수학 성적과 영어 성적에 대하여 <b>평균</b>, <b>분산</b>, <b>공분산</b>, <b>상관계수</b>를 계산할 수 있다."
   ]
  },
  {
   "cell_type": "code",
   "execution_count": 22,
   "metadata": {
    "colab": {
     "base_uri": "https://localhost:8080/",
     "height": 515
    },
    "id": "MfosEQtUwz41",
    "outputId": "978c48f4-ea27-4afe-d436-1482d7674a15"
   },
   "outputs": [
    {
     "data": {
      "image/png": "[encoded data removed]",
      "text/plain": [
       "<Figure size 640x480 with 1 Axes>"
      ]
     },
     "metadata": {},
     "output_type": "display_data"
    }
   ],
   "source": [
    "import matplotlib.pyplot as plt\n",
    "\n",
    "X = [97, 85, 26, 54, 76, 15, 33, 83, 88, 91]\n",
    "Y = [100, 92, 31, 61, 83, 28, 57, 45, 92, 93]\n",
    "plt.plot(X, Y, 'o')\n",
    "plt.xlabel(\"Math\")\n",
    "plt.ylabel(\"English\")\n",
    "plt.show()"
   ]
  },
  {
   "cell_type": "code",
   "execution_count": 23,
   "metadata": {
    "colab": {
     "base_uri": "https://localhost:8080/"
    },
    "id": "MHTNp7puw8JM",
    "outputId": "dca8d923-6526-49f8-f883-15d021197c71"
   },
   "outputs": [
    {
     "name": "stdout",
     "output_type": "stream",
     "text": [
      "x_mean = 64.800, x_var = 915.511\n",
      "y_mean = 68.200, y_var = 743.733\n"
     ]
    }
   ],
   "source": [
    "# 평균(mean) 계산\n",
    "x_mean = 0\n",
    "for x in X:\n",
    "    x_mean += x / len(X)\n",
    "# 분산(variance) 계산\n",
    "x_var = 0\n",
    "for x in X:\n",
    "    x_var += ((x - x_mean) ** 2) / (len(X) - 1)\n",
    "\n",
    "print(f\"x_mean = {x_mean:.3f}, x_var = {x_var:.3f}\")\n",
    "\n",
    "# 평균(mean) 계산\n",
    "y_mean = 0\n",
    "for y in Y:\n",
    "    y_mean += y / len(Y)\n",
    "# 분산(variance) 계산\n",
    "y_var = 0\n",
    "for y in Y:\n",
    "    y_var += ((y - y_mean) ** 2) / (len(Y) - 1)\n",
    "    \n",
    "print(f\"y_mean = {y_mean:.3f}, y_var = {y_var:.3f}\")"
   ]
  },
  {
   "cell_type": "code",
   "execution_count": 24,
   "metadata": {
    "colab": {
     "base_uri": "https://localhost:8080/"
    },
    "id": "SOIyRmMXw8n8",
    "outputId": "dfe67247-9051-40d6-f6e4-5605769cf40c"
   },
   "outputs": [
    {
     "name": "stdout",
     "output_type": "stream",
     "text": [
      "Sample covariance: 703.267\n",
      "[Sample covariance (NumPy)]\n",
      "[[915.511 703.267]\n",
      " [703.267 743.733]]\n",
      "Correlation coefficient: 0.852\n",
      "[Correlation coefficient (NumPy)]\n",
      "[[1.    0.852]\n",
      " [0.852 1.   ]]\n"
     ]
    }
   ],
   "source": [
    "import numpy as np\n",
    "np.set_printoptions(precision=3)\n",
    "import math\n",
    "\n",
    "# 공분산(covariance)\n",
    "covar = 0\n",
    "for x, y in zip(X, Y):\n",
    "    covar += ((x - x_mean) * (y - y_mean)) / (len(X) - 1)\n",
    "print(f\"Sample covariance: {covar:.3f}\")\n",
    "print(\"[Sample covariance (NumPy)]\")\n",
    "print(np.cov(X, Y))\n",
    "\n",
    "# 상관 계수(correlation coefficient)\n",
    "correlation_coefficient = covar / math.sqrt(x_var * y_var)\n",
    "print(f\"Correlation coefficient: {correlation_coefficient:.3f}\")\n",
    "print(\"[Correlation coefficient (NumPy)]\")\n",
    "print(np.corrcoef(X, Y))"
   ]
  },
  {
   "cell_type": "markdown",
   "metadata": {
    "id": "nyNOMHENw-W0"
   },
   "source": [
    "* 성적과 수면 시간에 대하여 <b>평균</b>, <b>분산</b>, <b>공분산</b>, <b>상관계수</b>를 계산할 수 있다."
   ]
  },
  {
   "cell_type": "code",
   "execution_count": 25,
   "metadata": {
    "colab": {
     "base_uri": "https://localhost:8080/",
     "height": 515
    },
    "id": "8EnAmmf9w-tk",
    "outputId": "eef64fe5-d4b7-4678-8252-b4df44a325c7"
   },
   "outputs": [
    {
     "data": {
      "image/png": "[encoded data removed]",
      "text/plain": [
       "<Figure size 640x480 with 1 Axes>"
      ]
     },
     "metadata": {},
     "output_type": "display_data"
    }
   ],
   "source": [
    "import matplotlib.pyplot as plt\n",
    "\n",
    "X = [97, 100, 25, 42, 55, 19, 41, 97, 95, 91]\n",
    "Y = [5.5, 7, 8, 9, 8.5, 8, 10, 7.5, 6, 6]\n",
    "plt.plot(X, Y, 'o')\n",
    "plt.xlabel(\"Score\")\n",
    "plt.ylabel(\"Sleep\")\n",
    "plt.show()"
   ]
  },
  {
   "cell_type": "code",
   "execution_count": 26,
   "metadata": {
    "colab": {
     "base_uri": "https://localhost:8080/"
    },
    "id": "vJTOwuXNw_3N",
    "outputId": "11a39df2-69bb-4210-fbc8-6314a4bc3db0"
   },
   "outputs": [
    {
     "name": "stdout",
     "output_type": "stream",
     "text": [
      "x_mean = 66.200, x_var = 1083.956\n",
      "y_mean = 7.550, y_var = 2.081\n"
     ]
    }
   ],
   "source": [
    "# 평균(mean) 계산\n",
    "x_mean = 0\n",
    "for x in X:\n",
    "    x_mean += x / len(X)\n",
    "# 분산(variance) 계산\n",
    "x_var = 0\n",
    "for x in X:\n",
    "    x_var += ((x - x_mean) ** 2) / (len(X) - 1)\n",
    "\n",
    "print(f\"x_mean = {x_mean:.3f}, x_var = {x_var:.3f}\")\n",
    "\n",
    "# 평균(mean) 계산\n",
    "y_mean = 0\n",
    "for y in Y:\n",
    "    y_mean += y / len(Y)\n",
    "# 분산(variance) 계산\n",
    "y_var = 0\n",
    "for y in Y:\n",
    "    y_var += ((y - y_mean) ** 2) / (len(Y) - 1)\n",
    "    \n",
    "print(f\"y_mean = {y_mean:.3f}, y_var = {y_var:.3f}\")"
   ]
  },
  {
   "cell_type": "code",
   "execution_count": 27,
   "metadata": {
    "colab": {
     "base_uri": "https://localhost:8080/"
    },
    "id": "6udGUGgOxBLU",
    "outputId": "b68e6391-ae85-4316-9a15-df8bb251c9bb"
   },
   "outputs": [
    {
     "name": "stdout",
     "output_type": "stream",
     "text": [
      "Sample covariance: -34.844\n",
      "[Sample covariance (NumPy)]\n",
      "[[1083.956  -34.844]\n",
      " [ -34.844    2.081]]\n",
      "Correlation coefficient: -0.734\n",
      "[Correlation coefficient (NumPy)]\n",
      "[[ 1.    -0.734]\n",
      " [-0.734  1.   ]]\n"
     ]
    }
   ],
   "source": [
    "import numpy as np\n",
    "np.set_printoptions(precision=3)\n",
    "import math\n",
    "\n",
    "# 공분산(covariance)\n",
    "covar = 0\n",
    "for x, y in zip(X, Y):\n",
    "    covar += ((x - x_mean) * (y - y_mean)) / (len(X) - 1)\n",
    "print(f\"Sample covariance: {covar:.3f}\")\n",
    "print(\"[Sample covariance (NumPy)]\")\n",
    "print(np.cov(X, Y))\n",
    "\n",
    "# 상관 계수(correlation coefficient)\n",
    "correlation_coefficient = covar / math.sqrt(x_var * y_var)\n",
    "print(f\"Correlation coefficient: {correlation_coefficient:.3f}\")\n",
    "print(\"[Correlation coefficient (NumPy)]\")\n",
    "print(np.corrcoef(X, Y))"
   ]
  },
  {
   "cell_type": "markdown",
   "metadata": {
    "id": "n67gI8S4xEud"
   },
   "source": [
    "#### <b>모멘트 방법을 활용한 정규 분포의 추정</b>\n",
    "\n",
    "* 평균(1차 모멘트)과 분산(2차 모멘트)를 활용해 정규 분포를 추정할 수 있다."
   ]
  },
  {
   "cell_type": "code",
   "execution_count": 28,
   "metadata": {
    "colab": {
     "base_uri": "https://localhost:8080/"
    },
    "id": "Tuz3OVNDxE-0",
    "outputId": "02dd532a-12c5-42cd-d981-ed9e15b60578"
   },
   "outputs": [
    {
     "name": "stdout",
     "output_type": "stream",
     "text": [
      "평균: 4.025\n",
      "분산: 2.774\n",
      "표준 편차: 1.666\n"
     ]
    }
   ],
   "source": [
    "import math\n",
    "\n",
    "arr = [1] * 3 + [2] * 5 + [3] * 7 + [4] * 10 + [5] * 6 + [6] * 6 + [7] * 3\n",
    "\n",
    "# 평균(mean) 계산\n",
    "mean = 0\n",
    "for x in arr:\n",
    "    mean += x / len(arr)\n",
    "\n",
    "# 분산(variance) 계산\n",
    "variance = 0\n",
    "for x in arr:\n",
    "    variance += ((x - mean) ** 2) / len(arr)\n",
    "\n",
    "# 표준 편차(standard deviation) 계산\n",
    "std = math.sqrt(variance)\n",
    "\n",
    "print(f\"평균: {mean:.3f}\")\n",
    "print(f\"분산: {variance:.3f}\")\n",
    "print(f\"표준 편차: {std:.3f}\")"
   ]
  },
  {
   "cell_type": "code",
   "execution_count": 29,
   "metadata": {
    "colab": {
     "base_uri": "https://localhost:8080/",
     "height": 520
    },
    "id": "de7JXT4NxSJp",
    "outputId": "9cfa3565-aa02-4d3a-f7e0-f03b27c6da49"
   },
   "outputs": [
    {
     "data": {
      "image/png": "[encoded data removed]",
      "text/plain": [
       "<Figure size 1000x800 with 1 Axes>"
      ]
     },
     "metadata": {},
     "output_type": "display_data"
    }
   ],
   "source": [
    "import numpy as np\n",
    "import matplotlib.pyplot as plt\n",
    "\n",
    "plt.rcParams[\"figure.figsize\"] = [10, 8]\n",
    "\n",
    "# 평균(mean)을 중심으로 다수의 x 데이터 생성\n",
    "x = np.linspace(mean - 10, mean + 10, 1000)\n",
    "# 정규 분포의 확률 밀도 함수(probability density function)\n",
    "y = (1 / (np.sqrt(2 * np.pi) * std)) * np.exp(-1 / (2 * (std ** 2)) * ((x - mean) ** 2))\n",
    "plt.plot(x, y)\n",
    "plt.xlabel(\"$x$\")\n",
    "plt.ylabel(\"$f_X(x)$\")\n",
    "plt.show()"
   ]
  },
  {
   "cell_type": "markdown",
   "metadata": {
    "id": "scIsdQM4xdbb"
   },
   "source": [
    "#### <b>최대 가능도 추정</b>"
   ]
  },
  {
   "cell_type": "code",
   "execution_count": 30,
   "metadata": {
    "colab": {
     "base_uri": "https://localhost:8080/",
     "height": 515
    },
    "id": "wt3pGtufxgHV",
    "outputId": "4c60ccfe-86c1-45ea-ff35-7c2ed4b8bf74"
   },
   "outputs": [
    {
     "data": {
      "image/png": "[encoded data removed]",
      "text/plain": [
       "<Figure size 1000x800 with 1 Axes>"
      ]
     },
     "metadata": {},
     "output_type": "display_data"
    }
   ],
   "source": [
    "import numpy as np\n",
    "import matplotlib.pyplot as plt\n",
    "\n",
    "plt.rcParams[\"figure.figsize\"] = [10, 8]\n",
    "plt.rcParams[\"font.size\"] = \"16\"\n",
    "\n",
    "# 정규 분포 확률 밀도 함수(probability density function)\n",
    "def pdf(x, mean, std):\n",
    "    result = 1 / (np.sqrt(2 * np.pi) * std)\n",
    "    result *= np.exp(-1 / (2 * (std ** 2)) * ((x - mean) ** 2))\n",
    "    return result\n",
    "\n",
    "x = np.linspace(0, 14, 1000)\n",
    "std = 2 # 알고 있는 정보(variance)\n",
    "data = 5 # 가지고 있는 데이터\n",
    "for mean in [5, 7, 9]:\n",
    "    y = pdf(x, mean, std)\n",
    "    plt.plot(x, y, label=f\"$N(x;\\mu={mean:.1f},\\delta^2={std ** 2:.1f})$\")\n",
    "\n",
    "plt.vlines(data, -0.1, 0.3, linestyle=\":\")\n",
    "plt.xlabel(\"$x$\")\n",
    "plt.ylabel(\"$f_X(x)$\")\n",
    "plt.legend()\n",
    "plt.show()"
   ]
  },
  {
   "cell_type": "markdown",
   "metadata": {
    "id": "9ONx-D0JiqBT"
   },
   "source": [
    "#### <b>데이터 추출(Data Sampling)</b>\n",
    "\n",
    "* 리스트 내에서 1개의 원소만 랜덤으로 추출할 수 있다."
   ]
  },
  {
   "cell_type": "code",
   "execution_count": 31,
   "metadata": {
    "colab": {
     "base_uri": "https://localhost:8080/"
    },
    "id": "t5LJmGEpir6Y",
    "outputId": "90d8b7fe-48d4-471d-efd2-bd87e3271adb"
   },
   "outputs": [
    {
     "name": "stdout",
     "output_type": "stream",
     "text": [
      "1\n"
     ]
    }
   ],
   "source": [
    "import random\n",
    "\n",
    "arr = [1, 2, 3, 4, 5]\n",
    "sampled = random.choice(arr)\n",
    "print(sampled)"
   ]
  },
  {
   "cell_type": "markdown",
   "metadata": {
    "id": "VsnVuGYBjqkb"
   },
   "source": [
    "* 리스트 내에서 k개의 원소를 중복 없이 랜덤으로 추출할 수 있다."
   ]
  },
  {
   "cell_type": "code",
   "execution_count": 32,
   "metadata": {
    "colab": {
     "base_uri": "https://localhost:8080/"
    },
    "id": "qkPhsxgeivZZ",
    "outputId": "dc568fbc-7d3c-4d5b-e05f-822f09f23615"
   },
   "outputs": [
    {
     "name": "stdout",
     "output_type": "stream",
     "text": [
      "[1, 5, 4]\n"
     ]
    }
   ],
   "source": [
    "import random\n",
    "\n",
    "arr = [1, 2, 3, 4, 5]\n",
    "sampled = random.sample(arr, 3)\n",
    "print(sampled)"
   ]
  },
  {
   "cell_type": "markdown",
   "metadata": {
    "id": "0li6vvmYlxv9"
   },
   "source": [
    "* 리스트 내에서 k개의 원소를 중복을 허용하여 랜덤으로 추출할 수 있다."
   ]
  },
  {
   "cell_type": "code",
   "execution_count": 33,
   "metadata": {
    "colab": {
     "base_uri": "https://localhost:8080/"
    },
    "id": "HOfSi1-sjFO7",
    "outputId": "944ecab5-c7a1-4ac1-8a13-d29b986e95f5"
   },
   "outputs": [
    {
     "name": "stdout",
     "output_type": "stream",
     "text": [
      "[1, 5, 4]\n"
     ]
    }
   ],
   "source": [
    "import random\n",
    "\n",
    "arr = [1, 2, 3, 4, 5]\n",
    "sampled = [random.choice(arr) for i in range(3)]\n",
    "print(sampled)\n"
   ]
  },
  {
   "cell_type": "code",
   "execution_count": 34,
   "metadata": {
    "colab": {
     "base_uri": "https://localhost:8080/"
    },
    "id": "AAzCK6GdlxEx",
    "outputId": "6aa6196c-ef35-46c6-f016-34a5f4eedf65"
   },
   "outputs": [
    {
     "name": "stdout",
     "output_type": "stream",
     "text": [
      "[3, 1, 4]\n"
     ]
    }
   ],
   "source": [
    "import random\n",
    "\n",
    "arr = [1, 2, 3, 4, 5]\n",
    "sampled = random.choices(arr, k=3)\n",
    "print(sampled)"
   ]
  },
  {
   "cell_type": "code",
   "execution_count": 35,
   "metadata": {
    "colab": {
     "base_uri": "https://localhost:8080/"
    },
    "id": "XUty8hVrl4rz",
    "outputId": "aa7aa826-26df-46fb-da9c-10fe40b6aa5b"
   },
   "outputs": [
    {
     "name": "stdout",
     "output_type": "stream",
     "text": [
      "[4, 3, 5, 3, 5, 4, 1]\n"
     ]
    }
   ],
   "source": [
    "import random\n",
    "\n",
    "arr = [1, 2, 3, 4, 5]\n",
    "# 중복을 허용하기 때문에, k가 원소의 개수보다 클 수 있다.\n",
    "sampled = random.choices(arr, k=7)\n",
    "print(sampled)"
   ]
  },
  {
   "cell_type": "markdown",
   "metadata": {
    "id": "UCUHW8HimCKE"
   },
   "source": [
    "* [0,1] 범위의 균등 분포에서 5개의 데이터를 추출할 수 있다."
   ]
  },
  {
   "cell_type": "code",
   "execution_count": 36,
   "metadata": {
    "colab": {
     "base_uri": "https://localhost:8080/"
    },
    "id": "qPfznPLZmAvx",
    "outputId": "6577bc66-f956-49ed-93e7-89a45eb95386"
   },
   "outputs": [
    {
     "name": "stdout",
     "output_type": "stream",
     "text": [
      "[0.132 0.412 0.436 0.477 0.901]\n"
     ]
    }
   ],
   "source": [
    "import numpy as np\n",
    "\n",
    "sampled = np.random.uniform(0, 1, 5)\n",
    "print(sampled)"
   ]
  },
  {
   "cell_type": "markdown",
   "metadata": {
    "id": "6rlhvrLJmHXM"
   },
   "source": [
    "* 표준 정규 분포(평균: 0, 표준편차: 1)에서 5개의 데이터를 추출한다."
   ]
  },
  {
   "cell_type": "code",
   "execution_count": 37,
   "metadata": {
    "colab": {
     "base_uri": "https://localhost:8080/"
    },
    "id": "Euc5F6r0mHzA",
    "outputId": "1fc28415-b41b-4321-c35a-5d74984b7740"
   },
   "outputs": [
    {
     "name": "stdout",
     "output_type": "stream",
     "text": [
      "[ 0.896  1.521 -1.296  0.113 -0.159]\n"
     ]
    }
   ],
   "source": [
    "import numpy as np\n",
    "\n",
    "sampled = np.random.normal(0, 1, 5)\n",
    "print(sampled)"
   ]
  },
  {
   "cell_type": "code",
   "execution_count": null,
   "metadata": {},
   "outputs": [],
   "source": []
  }
 ],
 "metadata": {
  "colab": {
   "provenance": []
  },
  "kernelspec": {
   "display_name": "Python 3",
   "name": "python3"
  },
  "language_info": {
   "codemirror_mode": {
    "name": "ipython",
    "version": 3
   },
   "file_extension": ".py",
   "mimetype": "text/x-python",
   "name": "python",
   "nbconvert_exporter": "python",
   "pygments_lexer": "ipython3",
   "version": "3.8.10"
  }
 },
 "nbformat": 4,
 "nbformat_minor": 0
}
